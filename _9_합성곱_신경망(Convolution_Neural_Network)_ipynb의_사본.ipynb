{
  "nbformat": 4,
  "nbformat_minor": 0,
  "metadata": {
    "colab": {
      "provenance": []
    },
    "kernelspec": {
      "name": "python3",
      "display_name": "Python 3"
    },
    "accelerator": "GPU"
  },
  "cells": [
    {
      "cell_type": "markdown",
      "metadata": {
        "id": "86l7I5SQ_u9J"
      },
      "source": [
        "# 합성곱 신경망(Convolution Neural Network)\n",
        "\n",
        "- 이미지 인식, 음성 인식 등에 자주 사용되는데,  \n",
        "  특히, 이미지 인식 분야에서 거의 모든 딥러닝 기술에 사용\n",
        "\n",
        "<br>\n",
        "\n",
        "## 컨볼루션 신경망의 등장\n",
        "- 1989년 얀 르쿤(Yann LeCun) 교수의 논문에서 발표\n",
        "\n",
        "  - 필기체 인식에서 의미가 있었지만 범용화하는데에는 무리\n",
        "\n",
        "- 1998년, \"Gradient-Based Learning Applied to Document Recognition\"이라는 논문에서 LeNet-5 제시\n",
        "\n",
        "- 합성곱 층(convolution layer), 풀링 층(pooling layer) 소개\n",
        "  <br>\n",
        "\n",
        "  <img src=\"https://miro.medium.com/max/4308/1*1TI1aGBZ4dybR6__DI9dzA.png\">\n",
        "  \n",
        "  <center>[LeNet-5 구조]</center>\n",
        "\n",
        "  <sub>출처: https://medium.com/@pechyonkin/key-deep-learning-architectures-lenet-5-6fc3c59e6f4</sub>"
      ]
    },
    {
      "cell_type": "markdown",
      "metadata": {
        "id": "Y46evOQHNukF"
      },
      "source": [
        "## 컨볼루션 신경망 구조 예시\n",
        "\n",
        "<img src=\"https://www.oreilly.com/library/view/neural-network-projects/9781789138900/assets/c38754ca-f2ea-425a-b7a6-1fe0f2f5074e.png\" width=\"600\">\n",
        "\n",
        "<sub>출처: https://www.oreilly.com/library/view/neural-network-projects/9781789138900/8e87ad66-6de3-4275-81a4-62b54436bf16.xhtml</sub>\n",
        "\n"
      ]
    },
    {
      "cell_type": "markdown",
      "metadata": {
        "id": "Wtb8UWyTNxp_"
      },
      "source": [
        "## 합성곱 연산\n",
        "- 필터(filter) 연산\n",
        "  - 입력 데이터에 필터를 통한 어떠한 연산을 진행\n",
        "  \n",
        "  - **필터에 대응하는 원소끼리 곱하고, 그 합을 구함**\n",
        "\n",
        "  - 연산이 완료된 결과 데이터를 **특징 맵(feature map)**이라 부름\n",
        "\n",
        "- 필터(filter)\n",
        "  - 커널(kernel)이라고도 칭함\n",
        "  \n",
        "  - 흔히 사진 어플에서 사용하는 '이미지 필터'와 비슷한 개념\n",
        "\n",
        "  - 필터의 사이즈는 \"거의 항상 홀수\"\n",
        "    - 짝수이면 패딩이 비대칭이 되어버림\n",
        "  \n",
        "    - 왼쪽, 오른쪽을 다르게 주어야함\n",
        "  \n",
        "    - 중심위치가 존재, 즉 구별된 하나의 픽셀(중심 픽셀)이 존재\n",
        "\n",
        "  - 필터의 학습 파라미터 개수는 입력 데이터의 크기와 상관없이 일정  \n",
        "    따라서, 과적합을 방지할 수 있음\n",
        "\n",
        "  <br>\n",
        "  <img src=\"http://deeplearning.net/software/theano_versions/dev/_images/numerical_no_padding_no_strides.gif\">\n",
        "\n",
        "  <sub>출처: http://deeplearning.net/software/theano_versions/dev/tutorial/conv_arithmetic.html</sub>\n",
        "\n",
        "\n",
        "- 연산 시각화\n",
        "  <img src=\"https://www.researchgate.net/profile/Ihab_S_Mohamed/publication/324165524/figure/fig3/AS:611103423860736@1522709818959/An-example-of-convolution-operation-in-2D-2.png\" width=\"500\">\n",
        "\n",
        "  <sub>출처: https://www.researchgate.net/figure/An-example-of-convolution-operation-in-2D-2_fig3_324165524</sub>\n",
        "\n",
        "\n",
        "- 일반적으로, 합성곱 연산을 한 후의 데이터 사이즈는  \n",
        "  ### $\\quad (n-f+1) \\times (n-f+1)$\n",
        "    $n$: 입력 데이터의 크기  \n",
        "    $f$: 필터(커널)의 크기\n",
        "\n",
        "\n",
        "  <img src=\"https://miro.medium.com/max/1400/1*Fw-ehcNBR9byHtho-Rxbtw.gif\" width=\"400\">\n",
        "\n",
        "  <sub>출처: https://towardsdatascience.com/intuitively-understanding-convolutions-for-deep-learning-1f6f42faee1</sub>\n",
        "  \n",
        "  위 예에서 입력 데이터 크기($n$)는 5, 필터의 크기($k$)는 3이므로  \n",
        "  출력 데이터의 크기는 $(5 - 3 + 1) = 3$\n"
      ]
    },
    {
      "cell_type": "markdown",
      "metadata": {
        "id": "5-ekDsJwN2Y-"
      },
      "source": [
        "## 패딩(padding)과 스트라이드(stride)\n",
        "- 필터(커널) 사이즈과 함께 **입력 이미지와 출력 이미지의 사이즈를 결정**하기 위해 사용\n",
        "\n",
        "- 사용자가 결정할 수 있음\n"
      ]
    },
    {
      "cell_type": "markdown",
      "metadata": {
        "id": "alV1bgcjN4Kc"
      },
      "source": [
        "\n",
        "### 패딩\n",
        "- 입력 데이터의 주변을 특정 값으로 채우는 기법\n",
        "  - 주로 0으로 많이 채움\n",
        "\n",
        "  <img src=\"http://deeplearning.net/software/theano_versions/dev/_images/arbitrary_padding_no_strides.gif\" width=\"300\">\n",
        "\n",
        "- 출력 데이터의 크기\n",
        "  ### $\\quad (n+2p-f+1) \\times (n+2p-f+1)$\n",
        "\n",
        "  위 그림에서, 입력 데이터의 크기($n$)는 5, 필터의 크기($f$)는 4, 패딩값($p$)은 2이므로    \n",
        "  출력 데이터의 크기는 ($5 + 2\\times 2 - 4 + 1) = 6$\n",
        "\n",
        "### 'valid' 와 'same'\n",
        "- 'valid'\n",
        "  - 패딩을 주지 않음\n",
        "  - padding=0 (0으로 채워진 테두리가 아니라 패딩을 주지 않는다는 의미)\n",
        "\n",
        "- 'same'\n",
        "  - 패딩을 주어 입력 이미지의 크기와 연산 후의 이미지 크기를 같게함\n",
        "\n",
        "  - 만약, 필터(커널)의 크기가 $k$ 이면,  \n",
        "    패딩의 크기는 $p = \\frac{k-1}{2}$ (단, <u>stride=1)</u>"
      ]
    },
    {
      "cell_type": "markdown",
      "metadata": {
        "id": "zlZ7zG6ON85J"
      },
      "source": [
        "\n",
        "\n",
        "### 스트라이드\n",
        "- 필터를 적용하는 간격을 의미\n",
        "\n",
        "- 아래는 그림의 간격 2\n",
        "\n",
        "  <img src=\"http://deeplearning.net/software/theano_versions/dev/_images/no_padding_strides.gif\">\n"
      ]
    },
    {
      "cell_type": "markdown",
      "metadata": {
        "id": "LPcsND-0OCNm"
      },
      "source": [
        "## 출력 데이터의 크기\n",
        "\n",
        "## $\\qquad OH = \\frac{H + 2P - FH}{S} + 1 $\n",
        "## $\\qquad OW = \\frac{W + 2P - FW}{S} + 1 $\n",
        "\n",
        "- 입력 크기 : $(H, W)$\n",
        "\n",
        "- 필터 크기 : $(FH, FW)$\n",
        "\n",
        "- 출력 크기 : $(OH, OW)$\n",
        "\n",
        "- 패딩, 스트라이드 : $P, S$\n",
        "\n",
        "- (주의)\n",
        "  - 위 식의 값에서 $\\frac{H + 2P - FH}{S}$ 또는 $\\frac{W + 2P - FW}{S}$가 정수로 나누어 떨어지는 값이어야 함\n",
        "  - 만약, 정수로 나누어 떨어지지 않으면  \n",
        "    패딩, 스트라이드값을 조정하여 정수로 나누어 떨어지게 해야함\n"
      ]
    },
    {
      "cell_type": "markdown",
      "metadata": {
        "id": "1x4UoMbF8jJ9"
      },
      "source": [
        "## 풀링(Pooling)\n",
        "\n",
        "- 필터(커널) 사이즈 내에서 특정 값을 추출하는 과정"
      ]
    },
    {
      "cell_type": "markdown",
      "metadata": {
        "id": "lDiaO3XF8oC_"
      },
      "source": [
        "### 맥스 풀링(Max Pooling)\n",
        "- 가장 많이 사용되는 방법\n",
        "\n",
        "- 출력 데이터의 사이즈 계산은 컨볼루션 연산과 동일\n",
        "## $\\quad OH = \\frac{H + 2P - FH}{S} + 1 $\n",
        "## $\\quad OW = \\frac{W + 2P - FW}{S} + 1 $\n",
        "\n",
        "- 일반적으로 stride=2, kernel_size=2 를 통해  \n",
        "  **특징맵의 크기를 <u>절반으로 줄이는 역할</u>**\n",
        "\n",
        "- 모델이 물체의 주요한 특징을 학습할 수 있도록 해주며,  \n",
        "  컨볼루션 신경망이 이동 불변성 특성을 가지게 해줌\n",
        "  - 예를 들어, 아래의 그림에서 초록색 사각형 안에 있는  \n",
        "    2와 8의 위치를 바꾼다해도 맥스 풀링 연산은 8을 추출\n",
        "\n",
        "- 모델의 파라미터 개수를 줄여주고, 연산 속도를 빠르게 해줌\n",
        "\n",
        "  <br>\n",
        "\n",
        "  <img src=\"https://cs231n.github.io/assets/cnn/maxpool.jpeg\" width=\"600\">\n",
        "\n",
        "  <sub>출처: https://cs231n.github.io/convolutional-networks/</sub>"
      ]
    },
    {
      "cell_type": "markdown",
      "metadata": {
        "id": "CrvtX4LrkhPI"
      },
      "source": [
        "## Conv1D\n",
        "\n",
        "- 텍스트 분류나 시계열 예측 같은 간단한 문제, 오디오 생성, 기계 번역 등의 문제에서 좋은 성능\n",
        "\n",
        "- 타임스텝의 순서에 민감하지 X\n",
        "\n",
        "\n",
        "- 2D Convolution\n",
        "  - 지역적 특징을 인식\n",
        "\n",
        "  <img src=\"https://missinglink.ai/wp-content/uploads/2019/03/2D-convolutional-example_2x-700x584.png\" width=\"500\">\n",
        "\n",
        "- 1D Convolution\n",
        "  - 문맥을 인식\n",
        "\n",
        "  <img src=\"https://missinglink.ai/wp-content/uploads/2019/03/1D-convolutional-example_2x.png\" width=\"500\">\n",
        "\n",
        "  <sub>출처: https://missinglink.ai/guides/keras/keras-conv1d-working-1d-convolutional-neural-networks-keras/</sub>"
      ]
    },
    {
      "cell_type": "markdown",
      "metadata": {
        "id": "aJNAI-aYnDuc"
      },
      "source": [
        "### Conv1D Layer\n",
        "- 입력: `(batch_size, timesteps, channels)`\n",
        "\n",
        "- 출력: `(batch_size, timesteps, filters)`\n",
        "\n",
        "- 필터의 사이즈가 커져도 모델이 급격히 증가하지 않기 때문에 다양한 크기를 사용할 수 있음\n",
        "- 데이터의 품질이 좋으면 굳이 크기를 달리하여 여러 개를 사용하지 않아도 될 수도 있음"
      ]
    },
    {
      "cell_type": "markdown",
      "metadata": {
        "id": "ADJZHPLJqTZa"
      },
      "source": [
        "### MaxPooling1D Layer\n",
        "- 다운 샘플링 효과\n",
        "\n",
        "- 단지 1차원형태로 바뀐 것 뿐"
      ]
    },
    {
      "cell_type": "markdown",
      "metadata": {
        "id": "wirZzwYJrNll"
      },
      "source": [
        "### GlovalMaxPooling Layer\n",
        "- 배치차원을 제외하고 2차원 형태를 1차원 형태로 바꾸어주는 레이어\n",
        "\n",
        "- Flatten layer로 대신 사용가능"
      ]
    },
    {
      "cell_type": "markdown",
      "metadata": {
        "id": "YQY_1IL9nQs2"
      },
      "source": [
        "## IMDB 데이터"
      ]
    },
    {
      "cell_type": "markdown",
      "metadata": {
        "id": "pl4Eu32qnUES"
      },
      "source": [
        "### 데이터 로드 및 전처리"
      ]
    },
    {
      "cell_type": "code",
      "metadata": {
        "id": "WcG-Hiltklbe"
      },
      "source": [
        "from tensorflow.keras.datasets import imdb\n",
        "from tensorflow.keras.preprocessing.sequence import pad_sequences\n",
        "from tensorflow.keras.models import Sequential\n",
        "from tensorflow.keras.optimizers import RMSprop\n",
        "from tensorflow.keras.layers import Dense, Embedding, Conv1D, MaxPooling1D, GlobalMaxPooling1D"
      ],
      "execution_count": null,
      "outputs": []
    },
    {
      "cell_type": "code",
      "metadata": {
        "id": "GGYaNT8hnec5",
        "colab": {
          "base_uri": "https://localhost:8080/"
        },
        "outputId": "f430e9c7-7768-4316-a041-cc6db40b41e0"
      },
      "source": [
        "num_words=10000\n",
        "max_len=500\n",
        "batch_size=32\n",
        "\n",
        "(input_train, y_train), (input_test, y_test)= imdb.load_data(num_words=num_words)\n",
        "\n",
        "print(len(input_train))\n",
        "print(len(input_test))"
      ],
      "execution_count": null,
      "outputs": [
        {
          "output_type": "stream",
          "name": "stdout",
          "text": [
            "Downloading data from https://storage.googleapis.com/tensorflow/tf-keras-datasets/imdb.npz\n",
            "17464789/17464789 [==============================] - 0s 0us/step\n",
            "25000\n",
            "25000\n"
          ]
        }
      ]
    },
    {
      "cell_type": "code",
      "metadata": {
        "id": "nQBzp3ownpEK",
        "colab": {
          "base_uri": "https://localhost:8080/"
        },
        "outputId": "cd68a75e-6ad4-44c2-b857-7cdea276c774"
      },
      "source": [
        "pad_x_train=pad_sequences(input_train, maxlen=max_len)\n",
        "pad_x_test=pad_sequences(input_test, maxlen=max_len)\n",
        "\n",
        "print(pad_x_train.shape)\n",
        "print(pad_x_test.shape)"
      ],
      "execution_count": null,
      "outputs": [
        {
          "output_type": "stream",
          "name": "stdout",
          "text": [
            "(25000, 500)\n",
            "(25000, 500)\n"
          ]
        }
      ]
    },
    {
      "cell_type": "markdown",
      "metadata": {
        "id": "j3E0hYiHoBO0"
      },
      "source": [
        "### 모델 구성"
      ]
    },
    {
      "cell_type": "code",
      "metadata": {
        "id": "PvKPr7N6nuHr"
      },
      "source": [
        "def build_model():\n",
        "  model=Sequential()\n",
        "\n",
        "  model.add(Embedding(input_dim=num_words, output_dim=32, input_length=max_len))\n",
        "  model.add(Conv1D(32,7, activation='relu'))\n",
        "  model.add(MaxPooling1D(7))\n",
        "  model.add(Conv1D(32,5,activation='relu'))\n",
        "  model.add(MaxPooling1D(5))\n",
        "  model.add(GlobalMaxPooling1D())\n",
        "  model.add(Dense(1, activation='sigmoid'))\n",
        "\n",
        "  model.compile(optimizer=RMSprop(learning_rate=1e-4),\n",
        "                loss='binary_crossentropy',\n",
        "                metrics=['accuracy'])\n",
        "\n",
        "  return model"
      ],
      "execution_count": null,
      "outputs": []
    },
    {
      "cell_type": "code",
      "metadata": {
        "id": "wwWZ47NHolB6",
        "colab": {
          "base_uri": "https://localhost:8080/"
        },
        "outputId": "c2214e1e-f04f-4750-a191-42d9f2d1a3a0"
      },
      "source": [
        "model=build_model()\n",
        "model.summary()"
      ],
      "execution_count": null,
      "outputs": [
        {
          "output_type": "stream",
          "name": "stdout",
          "text": [
            "Model: \"sequential\"\n",
            "_________________________________________________________________\n",
            " Layer (type)                Output Shape              Param #   \n",
            "=================================================================\n",
            " embedding (Embedding)       (None, 500, 32)           320000    \n",
            "                                                                 \n",
            " conv1d (Conv1D)             (None, 494, 32)           7200      \n",
            "                                                                 \n",
            " max_pooling1d (MaxPooling1  (None, 70, 32)            0         \n",
            " D)                                                              \n",
            "                                                                 \n",
            " conv1d_1 (Conv1D)           (None, 66, 32)            5152      \n",
            "                                                                 \n",
            " max_pooling1d_1 (MaxPoolin  (None, 13, 32)            0         \n",
            " g1D)                                                            \n",
            "                                                                 \n",
            " global_max_pooling1d (Glob  (None, 32)                0         \n",
            " alMaxPooling1D)                                                 \n",
            "                                                                 \n",
            " dense (Dense)               (None, 1)                 33        \n",
            "                                                                 \n",
            "=================================================================\n",
            "Total params: 332385 (1.27 MB)\n",
            "Trainable params: 332385 (1.27 MB)\n",
            "Non-trainable params: 0 (0.00 Byte)\n",
            "_________________________________________________________________\n"
          ]
        }
      ]
    },
    {
      "cell_type": "markdown",
      "metadata": {
        "id": "0qUbPGdmpHpQ"
      },
      "source": [
        "### 모델 학습"
      ]
    },
    {
      "cell_type": "code",
      "metadata": {
        "id": "xcCgjLHvonWB",
        "colab": {
          "base_uri": "https://localhost:8080/"
        },
        "outputId": "9daeab25-dd05-442c-9a48-0ac6a9a56763"
      },
      "source": [
        "history=model.fit(pad_x_train, y_train,\n",
        "                  batch_size=128, epochs=30,\n",
        "                  validation_split=0.2)"
      ],
      "execution_count": null,
      "outputs": [
        {
          "output_type": "stream",
          "name": "stdout",
          "text": [
            "Epoch 1/30\n",
            "157/157 [==============================] - 22s 116ms/step - loss: 0.6927 - accuracy: 0.5130 - val_loss: 0.6926 - val_accuracy: 0.5102\n",
            "Epoch 2/30\n",
            "157/157 [==============================] - 14s 89ms/step - loss: 0.6915 - accuracy: 0.5656 - val_loss: 0.6914 - val_accuracy: 0.5932\n",
            "Epoch 3/30\n",
            "157/157 [==============================] - 9s 57ms/step - loss: 0.6896 - accuracy: 0.6214 - val_loss: 0.6897 - val_accuracy: 0.5380\n",
            "Epoch 4/30\n",
            "157/157 [==============================] - 9s 55ms/step - loss: 0.6860 - accuracy: 0.6497 - val_loss: 0.6846 - val_accuracy: 0.6524\n",
            "Epoch 5/30\n",
            "157/157 [==============================] - 8s 54ms/step - loss: 0.6780 - accuracy: 0.6990 - val_loss: 0.6732 - val_accuracy: 0.6828\n",
            "Epoch 6/30\n",
            "157/157 [==============================] - 5s 32ms/step - loss: 0.6604 - accuracy: 0.7196 - val_loss: 0.6478 - val_accuracy: 0.7248\n",
            "Epoch 7/30\n",
            "157/157 [==============================] - 5s 31ms/step - loss: 0.6266 - accuracy: 0.7454 - val_loss: 0.6046 - val_accuracy: 0.7512\n",
            "Epoch 8/30\n",
            "157/157 [==============================] - 5s 32ms/step - loss: 0.5741 - accuracy: 0.7697 - val_loss: 0.5466 - val_accuracy: 0.7798\n",
            "Epoch 9/30\n",
            "157/157 [==============================] - 4s 28ms/step - loss: 0.5105 - accuracy: 0.7954 - val_loss: 0.4847 - val_accuracy: 0.8040\n",
            "Epoch 10/30\n",
            "157/157 [==============================] - 5s 32ms/step - loss: 0.4509 - accuracy: 0.8178 - val_loss: 0.4373 - val_accuracy: 0.8152\n",
            "Epoch 11/30\n",
            "157/157 [==============================] - 3s 20ms/step - loss: 0.4030 - accuracy: 0.8365 - val_loss: 0.4039 - val_accuracy: 0.8250\n",
            "Epoch 12/30\n",
            "157/157 [==============================] - 2s 15ms/step - loss: 0.3670 - accuracy: 0.8503 - val_loss: 0.3826 - val_accuracy: 0.8342\n",
            "Epoch 13/30\n",
            "157/157 [==============================] - 2s 14ms/step - loss: 0.3401 - accuracy: 0.8613 - val_loss: 0.3683 - val_accuracy: 0.8428\n",
            "Epoch 14/30\n",
            "157/157 [==============================] - 3s 21ms/step - loss: 0.3187 - accuracy: 0.8712 - val_loss: 0.3584 - val_accuracy: 0.8454\n",
            "Epoch 15/30\n",
            "157/157 [==============================] - 2s 15ms/step - loss: 0.3008 - accuracy: 0.8794 - val_loss: 0.3521 - val_accuracy: 0.8490\n",
            "Epoch 16/30\n",
            "157/157 [==============================] - 3s 18ms/step - loss: 0.2853 - accuracy: 0.8871 - val_loss: 0.3461 - val_accuracy: 0.8548\n",
            "Epoch 17/30\n",
            "157/157 [==============================] - 2s 16ms/step - loss: 0.2715 - accuracy: 0.8920 - val_loss: 0.3427 - val_accuracy: 0.8576\n",
            "Epoch 18/30\n",
            "157/157 [==============================] - 2s 14ms/step - loss: 0.2595 - accuracy: 0.8984 - val_loss: 0.3405 - val_accuracy: 0.8596\n",
            "Epoch 19/30\n",
            "157/157 [==============================] - 3s 18ms/step - loss: 0.2478 - accuracy: 0.9053 - val_loss: 0.3407 - val_accuracy: 0.8604\n",
            "Epoch 20/30\n",
            "157/157 [==============================] - 2s 12ms/step - loss: 0.2374 - accuracy: 0.9097 - val_loss: 0.3360 - val_accuracy: 0.8608\n",
            "Epoch 21/30\n",
            "157/157 [==============================] - 2s 13ms/step - loss: 0.2277 - accuracy: 0.9147 - val_loss: 0.3359 - val_accuracy: 0.8614\n",
            "Epoch 22/30\n",
            "157/157 [==============================] - 2s 13ms/step - loss: 0.2184 - accuracy: 0.9183 - val_loss: 0.3379 - val_accuracy: 0.8606\n",
            "Epoch 23/30\n",
            "157/157 [==============================] - 2s 13ms/step - loss: 0.2095 - accuracy: 0.9232 - val_loss: 0.3380 - val_accuracy: 0.8614\n",
            "Epoch 24/30\n",
            "157/157 [==============================] - 2s 12ms/step - loss: 0.2013 - accuracy: 0.9262 - val_loss: 0.3396 - val_accuracy: 0.8618\n",
            "Epoch 25/30\n",
            "157/157 [==============================] - 3s 19ms/step - loss: 0.1935 - accuracy: 0.9304 - val_loss: 0.3485 - val_accuracy: 0.8580\n",
            "Epoch 26/30\n",
            "157/157 [==============================] - 2s 11ms/step - loss: 0.1863 - accuracy: 0.9326 - val_loss: 0.3469 - val_accuracy: 0.8616\n",
            "Epoch 27/30\n",
            "157/157 [==============================] - 2s 15ms/step - loss: 0.1796 - accuracy: 0.9365 - val_loss: 0.3481 - val_accuracy: 0.8634\n",
            "Epoch 28/30\n",
            "157/157 [==============================] - 2s 11ms/step - loss: 0.1731 - accuracy: 0.9392 - val_loss: 0.3487 - val_accuracy: 0.8628\n",
            "Epoch 29/30\n",
            "157/157 [==============================] - 2s 12ms/step - loss: 0.1671 - accuracy: 0.9426 - val_loss: 0.3522 - val_accuracy: 0.8648\n",
            "Epoch 30/30\n",
            "157/157 [==============================] - 1s 10ms/step - loss: 0.1611 - accuracy: 0.9452 - val_loss: 0.3551 - val_accuracy: 0.8632\n"
          ]
        }
      ]
    },
    {
      "cell_type": "markdown",
      "metadata": {
        "id": "n2yEkawIph4C"
      },
      "source": [
        "### 시각화"
      ]
    },
    {
      "cell_type": "code",
      "metadata": {
        "id": "BfKC0UOkpPmP",
        "colab": {
          "base_uri": "https://localhost:8080/",
          "height": 860
        },
        "outputId": "d778568b-332b-4c81-a038-b1f9eca09e0a"
      },
      "source": [
        "import matplotlib.pyplot as plt\n",
        "\n",
        "loss=history.history['loss']\n",
        "val_loss=history.history['val_loss']\n",
        "acc=history.history['accuracy']\n",
        "val_acc=history.history['val_accuracy']\n",
        "\n",
        "epochs=range(1,len(loss)+1)\n",
        "\n",
        "plt.plot(epochs,loss, 'b--', label='training loss')\n",
        "plt.plot(epochs,val_loss, 'r:', label='validation loss')\n",
        "plt.grid()\n",
        "plt.legend()\n",
        "\n",
        "plt.figure()\n",
        "plt.plot(epochs,acc, 'b--', label='training acc')\n",
        "plt.plot(epochs,val_acc, 'r:', label='validation acc')\n",
        "plt.grid()\n",
        "plt.legend()"
      ],
      "execution_count": null,
      "outputs": [
        {
          "output_type": "execute_result",
          "data": {
            "text/plain": [
              "<matplotlib.legend.Legend at 0x796fd622abc0>"
            ]
          },
          "metadata": {},
          "execution_count": 12
        },
        {
          "output_type": "display_data",
          "data": {
            "text/plain": [
              "<Figure size 640x480 with 1 Axes>"
            ],
            "image/png": "[encoded data removed]"
          },
          "metadata": {}
        },
        {
          "output_type": "display_data",
          "data": {
            "text/plain": [
              "<Figure size 640x480 with 1 Axes>"
            ],
            "image/png": "[encoded data removed]"
          },
          "metadata": {}
        }
      ]
    },
    {
      "cell_type": "code",
      "source": [
        "model.evaluate(pad_x_test, y_test)"
      ],
      "metadata": {
        "colab": {
          "base_uri": "https://localhost:8080/"
        },
        "id": "I1RChx7V6hkM",
        "outputId": "8e23aceb-90c8-4268-f0fe-17e3c8be11a6"
      },
      "execution_count": null,
      "outputs": [
        {
          "output_type": "stream",
          "name": "stdout",
          "text": [
            "782/782 [==============================] - 3s 4ms/step - loss: 0.3670 - accuracy: 0.8504\n"
          ]
        },
        {
          "output_type": "execute_result",
          "data": {
            "text/plain": [
              "[0.3669820725917816, 0.8503599762916565]"
            ]
          },
          "metadata": {},
          "execution_count": 13
        }
      ]
    },
    {
      "cell_type": "markdown",
      "metadata": {
        "id": "Oz_Iu_VHV7Z5"
      },
      "source": [
        "## Reuters 데이터"
      ]
    },
    {
      "cell_type": "markdown",
      "metadata": {
        "id": "4_Q6p0nhV7Z6"
      },
      "source": [
        "### 데이터 로드 및 전처리"
      ]
    },
    {
      "cell_type": "code",
      "metadata": {
        "id": "waEmkCowV7Z7"
      },
      "source": [
        "from keras.datasets import reuters"
      ],
      "execution_count": null,
      "outputs": []
    },
    {
      "cell_type": "code",
      "metadata": {
        "id": "dggcmeJ4V7Z_",
        "colab": {
          "base_uri": "https://localhost:8080/"
        },
        "outputId": "25242d9a-b837-4e58-ce12-29a9da38621b"
      },
      "source": [
        "num_words=10000\n",
        "max_len=500\n",
        "batch_size=32\n",
        "\n",
        "(input_train, y_train), (input_test, y_test)= reuters.load_data(num_words=num_words)\n",
        "\n",
        "print(len(input_train))\n",
        "print(len(input_test))"
      ],
      "execution_count": null,
      "outputs": [
        {
          "output_type": "stream",
          "name": "stdout",
          "text": [
            "Downloading data from https://storage.googleapis.com/tensorflow/tf-keras-datasets/reuters.npz\n",
            "2110848/2110848 [==============================] - 0s 0us/step\n",
            "8982\n",
            "2246\n"
          ]
        }
      ]
    },
    {
      "cell_type": "code",
      "metadata": {
        "id": "EBOJIgbgV7aB",
        "colab": {
          "base_uri": "https://localhost:8080/"
        },
        "outputId": "8555a865-edf5-4037-cb40-8c2da9412026"
      },
      "source": [
        "pad_x_train=pad_sequences(input_train, maxlen=max_len)\n",
        "pad_x_test=pad_sequences(input_test, maxlen=max_len)\n",
        "\n",
        "print(pad_x_train.shape)\n",
        "print(pad_x_test.shape)"
      ],
      "execution_count": null,
      "outputs": [
        {
          "output_type": "stream",
          "name": "stdout",
          "text": [
            "(8982, 500)\n",
            "(2246, 500)\n"
          ]
        }
      ]
    },
    {
      "cell_type": "markdown",
      "metadata": {
        "id": "xehgNec0V7aE"
      },
      "source": [
        "### 모델 구성"
      ]
    },
    {
      "cell_type": "code",
      "metadata": {
        "id": "RTV2qF8_V7aE"
      },
      "source": [
        "def build_model():\n",
        "  model=Sequential()\n",
        "\n",
        "  model.add(Embedding(input_dim=num_words, output_dim=32, input_length=max_len))\n",
        "  model.add(Conv1D(32,7, activation='relu'))\n",
        "  model.add(MaxPooling1D(7))\n",
        "  model.add(Conv1D(32,5,activation='relu'))\n",
        "  model.add(MaxPooling1D(5))\n",
        "  model.add(GlobalMaxPooling1D())\n",
        "  model.add(Dense(46, activation='softmax'))\n",
        "\n",
        "  model.compile(optimizer='adam',\n",
        "                loss='sparse_categorical_crossentropy',\n",
        "                metrics=['accuracy'])\n",
        "\n",
        "  return model"
      ],
      "execution_count": null,
      "outputs": []
    },
    {
      "cell_type": "code",
      "metadata": {
        "id": "48n2W3xpV7aG",
        "colab": {
          "base_uri": "https://localhost:8080/"
        },
        "outputId": "b531a367-6a02-4065-ef1d-d9eb4f87359a"
      },
      "source": [
        "model=build_model()\n",
        "model.summary()"
      ],
      "execution_count": null,
      "outputs": [
        {
          "output_type": "stream",
          "name": "stdout",
          "text": [
            "Model: \"sequential_1\"\n",
            "_________________________________________________________________\n",
            " Layer (type)                Output Shape              Param #   \n",
            "=================================================================\n",
            " embedding_1 (Embedding)     (None, 500, 32)           320000    \n",
            "                                                                 \n",
            " conv1d_2 (Conv1D)           (None, 494, 32)           7200      \n",
            "                                                                 \n",
            " max_pooling1d_2 (MaxPoolin  (None, 70, 32)            0         \n",
            " g1D)                                                            \n",
            "                                                                 \n",
            " conv1d_3 (Conv1D)           (None, 66, 32)            5152      \n",
            "                                                                 \n",
            " max_pooling1d_3 (MaxPoolin  (None, 13, 32)            0         \n",
            " g1D)                                                            \n",
            "                                                                 \n",
            " global_max_pooling1d_1 (Gl  (None, 32)                0         \n",
            " obalMaxPooling1D)                                               \n",
            "                                                                 \n",
            " dense_1 (Dense)             (None, 46)                1518      \n",
            "                                                                 \n",
            "=================================================================\n",
            "Total params: 333870 (1.27 MB)\n",
            "Trainable params: 333870 (1.27 MB)\n",
            "Non-trainable params: 0 (0.00 Byte)\n",
            "_________________________________________________________________\n"
          ]
        }
      ]
    },
    {
      "cell_type": "markdown",
      "metadata": {
        "id": "WeRmu5WMV7aI"
      },
      "source": [
        "### 모델 학습"
      ]
    },
    {
      "cell_type": "code",
      "metadata": {
        "id": "BGVdYyIrV7aJ",
        "colab": {
          "base_uri": "https://localhost:8080/"
        },
        "outputId": "dbfb4e35-3530-4d5e-96b8-973867950b79"
      },
      "source": [
        "history=model.fit(pad_x_train, y_train,\n",
        "                  batch_size=128, epochs=30,\n",
        "                  validation_split=0.2)\n",
        "# overfitting이 된 것을 볼 수 있음"
      ],
      "execution_count": null,
      "outputs": [
        {
          "output_type": "stream",
          "name": "stdout",
          "text": [
            "Epoch 1/30\n",
            "57/57 [==============================] - 14s 217ms/step - loss: 3.0679 - accuracy: 0.3275 - val_loss: 2.4100 - val_accuracy: 0.3450\n",
            "Epoch 2/30\n",
            "57/57 [==============================] - 11s 189ms/step - loss: 2.1911 - accuracy: 0.4362 - val_loss: 2.0196 - val_accuracy: 0.5153\n",
            "Epoch 3/30\n",
            "57/57 [==============================] - 9s 150ms/step - loss: 1.9565 - accuracy: 0.5308 - val_loss: 1.8969 - val_accuracy: 0.5281\n",
            "Epoch 4/30\n",
            "57/57 [==============================] - 7s 120ms/step - loss: 1.7624 - accuracy: 0.5459 - val_loss: 1.6819 - val_accuracy: 0.5793\n",
            "Epoch 5/30\n",
            "57/57 [==============================] - 7s 127ms/step - loss: 1.5444 - accuracy: 0.6313 - val_loss: 1.5357 - val_accuracy: 0.6355\n",
            "Epoch 6/30\n",
            "57/57 [==============================] - 6s 111ms/step - loss: 1.3521 - accuracy: 0.6857 - val_loss: 1.4266 - val_accuracy: 0.6583\n",
            "Epoch 7/30\n",
            "57/57 [==============================] - 9s 145ms/step - loss: 1.1889 - accuracy: 0.7104 - val_loss: 1.3740 - val_accuracy: 0.6761\n",
            "Epoch 8/30\n",
            "57/57 [==============================] - 5s 96ms/step - loss: 1.0512 - accuracy: 0.7360 - val_loss: 1.3553 - val_accuracy: 0.6789\n",
            "Epoch 9/30\n",
            "57/57 [==============================] - 4s 70ms/step - loss: 0.9258 - accuracy: 0.7678 - val_loss: 1.3637 - val_accuracy: 0.6834\n",
            "Epoch 10/30\n",
            "57/57 [==============================] - 4s 62ms/step - loss: 0.8120 - accuracy: 0.7989 - val_loss: 1.3669 - val_accuracy: 0.6906\n",
            "Epoch 11/30\n",
            "57/57 [==============================] - 5s 84ms/step - loss: 0.7027 - accuracy: 0.8288 - val_loss: 1.3937 - val_accuracy: 0.6973\n",
            "Epoch 12/30\n",
            "57/57 [==============================] - 4s 71ms/step - loss: 0.6077 - accuracy: 0.8468 - val_loss: 1.4335 - val_accuracy: 0.7034\n",
            "Epoch 13/30\n",
            "57/57 [==============================] - 4s 62ms/step - loss: 0.5237 - accuracy: 0.8697 - val_loss: 1.4671 - val_accuracy: 0.7056\n",
            "Epoch 14/30\n",
            "57/57 [==============================] - 4s 66ms/step - loss: 0.4546 - accuracy: 0.8878 - val_loss: 1.5122 - val_accuracy: 0.7023\n",
            "Epoch 15/30\n",
            "57/57 [==============================] - 2s 43ms/step - loss: 0.3934 - accuracy: 0.9069 - val_loss: 1.5427 - val_accuracy: 0.7040\n",
            "Epoch 16/30\n",
            "57/57 [==============================] - 3s 45ms/step - loss: 0.3389 - accuracy: 0.9203 - val_loss: 1.6025 - val_accuracy: 0.7012\n",
            "Epoch 17/30\n",
            "57/57 [==============================] - 3s 62ms/step - loss: 0.2995 - accuracy: 0.9299 - val_loss: 1.6453 - val_accuracy: 0.7028\n",
            "Epoch 18/30\n",
            "57/57 [==============================] - 3s 50ms/step - loss: 0.2761 - accuracy: 0.9356 - val_loss: 1.7212 - val_accuracy: 0.6978\n",
            "Epoch 19/30\n",
            "57/57 [==============================] - 2s 36ms/step - loss: 0.2477 - accuracy: 0.9445 - val_loss: 1.7271 - val_accuracy: 0.7073\n",
            "Epoch 20/30\n",
            "57/57 [==============================] - 2s 38ms/step - loss: 0.2207 - accuracy: 0.9509 - val_loss: 1.7768 - val_accuracy: 0.7051\n",
            "Epoch 21/30\n",
            "57/57 [==============================] - 3s 50ms/step - loss: 0.1967 - accuracy: 0.9518 - val_loss: 1.7991 - val_accuracy: 0.7062\n",
            "Epoch 22/30\n",
            "57/57 [==============================] - 2s 42ms/step - loss: 0.1874 - accuracy: 0.9573 - val_loss: 1.8046 - val_accuracy: 0.7062\n",
            "Epoch 23/30\n",
            "57/57 [==============================] - 2s 33ms/step - loss: 0.1728 - accuracy: 0.9570 - val_loss: 1.8382 - val_accuracy: 0.7084\n",
            "Epoch 24/30\n",
            "57/57 [==============================] - 3s 50ms/step - loss: 0.1661 - accuracy: 0.9587 - val_loss: 1.8712 - val_accuracy: 0.7051\n",
            "Epoch 25/30\n",
            "57/57 [==============================] - 1s 26ms/step - loss: 0.1500 - accuracy: 0.9614 - val_loss: 1.8938 - val_accuracy: 0.7067\n",
            "Epoch 26/30\n",
            "57/57 [==============================] - 2s 41ms/step - loss: 0.1382 - accuracy: 0.9585 - val_loss: 1.9170 - val_accuracy: 0.7067\n",
            "Epoch 27/30\n",
            "57/57 [==============================] - 2s 38ms/step - loss: 0.1381 - accuracy: 0.9603 - val_loss: 1.9430 - val_accuracy: 0.7034\n",
            "Epoch 28/30\n",
            "57/57 [==============================] - 2s 29ms/step - loss: 0.1338 - accuracy: 0.9608 - val_loss: 1.9518 - val_accuracy: 0.7090\n",
            "Epoch 29/30\n",
            "57/57 [==============================] - 1s 18ms/step - loss: 0.1278 - accuracy: 0.9620 - val_loss: 1.9504 - val_accuracy: 0.7040\n",
            "Epoch 30/30\n",
            "57/57 [==============================] - 3s 50ms/step - loss: 0.1229 - accuracy: 0.9617 - val_loss: 1.9936 - val_accuracy: 0.7034\n"
          ]
        }
      ]
    },
    {
      "cell_type": "markdown",
      "metadata": {
        "id": "ao8NNj2SV7aL"
      },
      "source": [
        "### 시각화"
      ]
    },
    {
      "cell_type": "code",
      "metadata": {
        "id": "D_CisVtyV7aL",
        "colab": {
          "base_uri": "https://localhost:8080/",
          "height": 860
        },
        "outputId": "31e3108b-7b75-4138-80e1-c4d362164858"
      },
      "source": [
        "import matplotlib.pyplot as plt\n",
        "\n",
        "loss=history.history['loss']\n",
        "val_loss=history.history['val_loss']\n",
        "acc=history.history['accuracy']\n",
        "val_acc=history.history['val_accuracy']\n",
        "\n",
        "epochs=range(1,len(loss)+1)\n",
        "\n",
        "plt.plot(epochs,loss, 'b--', label='training loss')\n",
        "plt.plot(epochs,val_loss, 'r:', label='validation loss')\n",
        "plt.grid()\n",
        "plt.legend()\n",
        "\n",
        "plt.figure()\n",
        "plt.plot(epochs,acc, 'b--', label='training acc')\n",
        "plt.plot(epochs,val_acc, 'r:', label='validation acc')\n",
        "plt.grid()\n",
        "plt.legend()"
      ],
      "execution_count": null,
      "outputs": [
        {
          "output_type": "execute_result",
          "data": {
            "text/plain": [
              "<matplotlib.legend.Legend at 0x796fd59b41c0>"
            ]
          },
          "metadata": {},
          "execution_count": 23
        },
        {
          "output_type": "display_data",
          "data": {
            "text/plain": [
              "<Figure size 640x480 with 1 Axes>"
            ],
            "image/png": "[encoded data removed]"
          },
          "metadata": {}
        },
        {
          "output_type": "display_data",
          "data": {
            "text/plain": [
              "<Figure size 640x480 with 1 Axes>"
            ],
            "image/png": "[encoded data removed]"
          },
          "metadata": {}
        }
      ]
    },
    {
      "cell_type": "code",
      "metadata": {
        "id": "NCsNsoiUV7aP",
        "colab": {
          "base_uri": "https://localhost:8080/"
        },
        "outputId": "9ec07d48-e1fa-47cf-d50b-4d94399e2315"
      },
      "source": [
        "model.evaluate(pad_x_test, y_test)"
      ],
      "execution_count": null,
      "outputs": [
        {
          "output_type": "stream",
          "name": "stdout",
          "text": [
            "71/71 [==============================] - 0s 4ms/step - loss: 1.9755 - accuracy: 0.7048\n"
          ]
        },
        {
          "output_type": "execute_result",
          "data": {
            "text/plain": [
              "[1.9755315780639648, 0.7048085331916809]"
            ]
          },
          "metadata": {},
          "execution_count": 24
        }
      ]
    },
    {
      "cell_type": "code",
      "source": [],
      "metadata": {
        "id": "XegwM1mV7g8J"
      },
      "execution_count": null,
      "outputs": []
    }
  ]
}