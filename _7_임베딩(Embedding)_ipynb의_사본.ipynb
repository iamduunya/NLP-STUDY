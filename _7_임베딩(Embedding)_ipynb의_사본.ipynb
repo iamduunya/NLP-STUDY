{
  "nbformat": 4,
  "nbformat_minor": 0,
  "metadata": {
    "colab": {
      "provenance": []
    },
    "kernelspec": {
      "name": "python3",
      "display_name": "Python 3"
    },
    "accelerator": "GPU"
  },
  "cells": [
    {
      "cell_type": "markdown",
      "metadata": {
        "id": "sqJ4qz2uwHHH"
      },
      "source": [
        "# 임베딩(Embedding)"
      ]
    },
    {
      "cell_type": "markdown",
      "metadata": {
        "id": "E2HuxbsICXZc"
      },
      "source": [
        "* 워드 임베딩은 단어를 컴퓨터가 이해하고, 효율적으로 처리할 수 있도록 단어를 벡터화하는 기술\n",
        "* 워드 임베딩은 단어의 의미를 잘 표현해야만 하며, 현재까지도 많은 표현 방법이 연구\n",
        "* 워드 임베딩을 거쳐 잘 표현된 단어 벡터들은 계산이 가능하며, 모델 투입도 가능"
      ]
    },
    {
      "cell_type": "markdown",
      "metadata": {
        "id": "m0bGg7PjHyKM"
      },
      "source": [
        "## 인코딩(Encoding)"
      ]
    },
    {
      "cell_type": "markdown",
      "metadata": {
        "id": "lWVay2ofi4vR"
      },
      "source": [
        "* 기계는 자연어(영어, 한국어 등)을 이해할 수 없음\n",
        "* 데이터를 기계가 이해할 수 있도록 숫자 등으로 변환해주는 작업이 필요\n",
        "* 이러한 작업을 인코딩이라고 함\n",
        "\n",
        "* 텍스트 처리에서는 주로 정수 인코딩, 원 핫 인코딩을 사용"
      ]
    },
    {
      "cell_type": "markdown",
      "metadata": {
        "id": "QPXDPmRtKDfr"
      },
      "source": [
        "### 정수 인코딩"
      ]
    },
    {
      "cell_type": "markdown",
      "metadata": {
        "id": "zzb5eqDEPJDs"
      },
      "source": [
        "#### dictionary를 이용한 정수 인코딩"
      ]
    },
    {
      "cell_type": "markdown",
      "metadata": {
        "id": "MecMDCLZQz8X"
      },
      "source": [
        "* 각 단어와 정수 인덱스를 연결하고, 토큰을 변환해주는 정수 인코딩"
      ]
    },
    {
      "cell_type": "code",
      "metadata": {
        "id": "AZoYLia2PQTV",
        "colab": {
          "base_uri": "https://localhost:8080/"
        },
        "outputId": "86732c45-24c6-4cba-96aa-9618d636a443"
      },
      "source": [
        "text='평생 살 것처럼 꿈을 꾸어라. 그리고 내일 죽을 것처럼 오늘을 살아라.'\n",
        "\n",
        "tokens=[x for x in text.split(' ')] # 텍스트를 split해서 토큰으로 바꿈\n",
        "unique=set(tokens) # 토큰을 unique한 것만 남김\n",
        "unique=list(unique)\n",
        "\n",
        "token2idx={}\n",
        "for i in range(len(unique)):\n",
        "  token2idx[unique[i]]=i # unique한 것을 인덱스에 넣어줌\n",
        "\n",
        "encode=[token2idx[x] for x in tokens] # 인덱스를 인코딩해줌\n",
        "encode"
      ],
      "execution_count": null,
      "outputs": [
        {
          "output_type": "execute_result",
          "data": {
            "text/plain": [
              "[5, 3, 0, 2, 4, 9, 1, 8, 0, 6, 7]"
            ]
          },
          "metadata": {},
          "execution_count": 2
        }
      ]
    },
    {
      "cell_type": "markdown",
      "metadata": {
        "id": "uBEtdH1cPENH"
      },
      "source": [
        "#### keras를 이용한 정수 인코딩"
      ]
    },
    {
      "cell_type": "markdown",
      "metadata": {
        "id": "OpuQdjiLhogy"
      },
      "source": [
        "* 정수 인코딩은 단어에 정수로 레이블을 부여\n",
        "* `dictionary`, `nltk` 패키지를 이용한 방법들도 있지만, `keras`에서는 텍스트 처리에 필요한 도구들을 지원\n",
        "* 해당 도구는 자동으로 단어 빈도가 높은 단어의 인덱스는 낮게끔 설정"
      ]
    },
    {
      "cell_type": "code",
      "metadata": {
        "id": "fIqPMClFiMvb",
        "colab": {
          "base_uri": "https://localhost:8080/"
        },
        "outputId": "614a0f66-4870-48b9-853b-ca63426c5665"
      },
      "source": [
        "from tensorflow.keras.preprocessing.text import Tokenizer\n",
        "\n",
        "text='평생 살 것처럼 꿈을 꾸어라. 그리고 내일 죽을 것처럼 오늘을 살아라.'\n",
        "\n",
        "t=Tokenizer()\n",
        "t.fit_on_texts([text])\n",
        "print(t.word_index) # 빈도가 높은 '것처럼' 단어의 인덱스가 가장 낮은 걸 볼 수 있음\n",
        "\n",
        "encoded=t.texts_to_sequences([text])[0]\n",
        "print(encoded)"
      ],
      "execution_count": null,
      "outputs": [
        {
          "output_type": "stream",
          "name": "stdout",
          "text": [
            "{'것처럼': 1, '평생': 2, '살': 3, '꿈을': 4, '꾸어라': 5, '그리고': 6, '내일': 7, '죽을': 8, '오늘을': 9, '살아라': 10}\n",
            "[2, 3, 1, 4, 5, 6, 7, 8, 1, 9, 10]\n"
          ]
        }
      ]
    },
    {
      "cell_type": "markdown",
      "metadata": {
        "id": "2TDrAJL-KEt8"
      },
      "source": [
        "### 원 핫 인코딩(One-Hot Encoding)"
      ]
    },
    {
      "cell_type": "markdown",
      "metadata": {
        "id": "2zA6x8FbmeqS"
      },
      "source": [
        "#### 조건문과 반복문을 이용한 원 핫 인코딩"
      ]
    },
    {
      "cell_type": "markdown",
      "metadata": {
        "id": "IKGnvTw7RFf5"
      },
      "source": [
        "* 원 핫 인코딩은 정수 인코딩한 결과를 벡터로 변환한 인코딩\n",
        "* 원 핫 인코딩은 전체 단어 개수 만큼의 길이를 가진 배열에 해당 정수를 가진 위치는 1, 나머지는 0을 가진 벡터로 변환   "
      ]
    },
    {
      "cell_type": "code",
      "metadata": {
        "id": "MlHc9XXERFla",
        "colab": {
          "base_uri": "https://localhost:8080/"
        },
        "outputId": "7bac084f-4a95-491e-bce4-4e1871b5e2a4"
      },
      "source": [
        "import numpy as np\n",
        "\n",
        "one_hot=[]\n",
        "for i in range(len(encoded)):\n",
        "  temp=[]\n",
        "  for j in range(max(encoded)):\n",
        "    if j == (encoded[i]-1):\n",
        "      temp.append(1)\n",
        "    else:\n",
        "      temp.append(0)\n",
        "  one_hot.append(temp)\n",
        "np.array(one_hot)"
      ],
      "execution_count": null,
      "outputs": [
        {
          "output_type": "execute_result",
          "data": {
            "text/plain": [
              "array([[0, 1, 0, 0, 0, 0, 0, 0, 0, 0],\n",
              "       [0, 0, 1, 0, 0, 0, 0, 0, 0, 0],\n",
              "       [1, 0, 0, 0, 0, 0, 0, 0, 0, 0],\n",
              "       [0, 0, 0, 1, 0, 0, 0, 0, 0, 0],\n",
              "       [0, 0, 0, 0, 1, 0, 0, 0, 0, 0],\n",
              "       [0, 0, 0, 0, 0, 1, 0, 0, 0, 0],\n",
              "       [0, 0, 0, 0, 0, 0, 1, 0, 0, 0],\n",
              "       [0, 0, 0, 0, 0, 0, 0, 1, 0, 0],\n",
              "       [1, 0, 0, 0, 0, 0, 0, 0, 0, 0],\n",
              "       [0, 0, 0, 0, 0, 0, 0, 0, 1, 0],\n",
              "       [0, 0, 0, 0, 0, 0, 0, 0, 0, 1]])"
            ]
          },
          "metadata": {},
          "execution_count": 4
        }
      ]
    },
    {
      "cell_type": "markdown",
      "metadata": {
        "id": "xk_Bna8tmmqS"
      },
      "source": [
        "#### keras를 이용한 원 핫 인코딩"
      ]
    },
    {
      "cell_type": "markdown",
      "metadata": {
        "id": "oxlWLLJfht7i"
      },
      "source": [
        "* `keras`에서는 정수 인코딩을 원 핫 인코딩을 간단하게 변환해주는 `to_categorical()` 함수를 제공"
      ]
    },
    {
      "cell_type": "code",
      "metadata": {
        "id": "xRJ8frWZiMeS",
        "colab": {
          "base_uri": "https://localhost:8080/"
        },
        "outputId": "3fa0ee31-fc8f-4ecf-e8a3-565730ec54ad"
      },
      "source": [
        "from tensorflow.keras.utils import to_categorical\n",
        "\n",
        "one_hot=to_categorical(encoded)\n",
        "one_hot"
      ],
      "execution_count": null,
      "outputs": [
        {
          "output_type": "execute_result",
          "data": {
            "text/plain": [
              "array([[0., 0., 1., 0., 0., 0., 0., 0., 0., 0., 0.],\n",
              "       [0., 0., 0., 1., 0., 0., 0., 0., 0., 0., 0.],\n",
              "       [0., 1., 0., 0., 0., 0., 0., 0., 0., 0., 0.],\n",
              "       [0., 0., 0., 0., 1., 0., 0., 0., 0., 0., 0.],\n",
              "       [0., 0., 0., 0., 0., 1., 0., 0., 0., 0., 0.],\n",
              "       [0., 0., 0., 0., 0., 0., 1., 0., 0., 0., 0.],\n",
              "       [0., 0., 0., 0., 0., 0., 0., 1., 0., 0., 0.],\n",
              "       [0., 0., 0., 0., 0., 0., 0., 0., 1., 0., 0.],\n",
              "       [0., 1., 0., 0., 0., 0., 0., 0., 0., 0., 0.],\n",
              "       [0., 0., 0., 0., 0., 0., 0., 0., 0., 1., 0.],\n",
              "       [0., 0., 0., 0., 0., 0., 0., 0., 0., 0., 1.]], dtype=float32)"
            ]
          },
          "metadata": {},
          "execution_count": 5
        }
      ]
    },
    {
      "cell_type": "markdown",
      "metadata": {
        "id": "0T4R-JlP2-6k"
      },
      "source": [
        "## IMDB 데이터\n",
        "\n",
        "- 인터넷 영화 데이터베이스(Internet Movie Database)\n",
        "\n",
        "- 양극단의 리뷰 5만개로 이루어진 데이터셋\n",
        "  - 훈련데이터: 25,000개\n",
        "  - 테스트데이터 : 25,000개\n",
        "\n",
        "  <img src=\"https://encrypted-tbn0.gstatic.com/images?q=tbn%3AANd9GcQlk-f2SHB6-Vs3RWwIugMctsyEn2QVZWC5KQ&usqp=CAU\">\n",
        "\n",
        "- https://www.imdb.com/interfaces/"
      ]
    },
    {
      "cell_type": "markdown",
      "metadata": {
        "id": "gxmuXi9L3-O2"
      },
      "source": [
        "### module import"
      ]
    },
    {
      "cell_type": "code",
      "metadata": {
        "id": "XrfsUoGS2EVN"
      },
      "source": [
        "from tensorflow.keras.datasets import imdb\n",
        "from tensorflow.keras.models import Sequential\n",
        "from tensorflow.keras.layers import Embedding, Dense, Flatten"
      ],
      "execution_count": null,
      "outputs": []
    },
    {
      "cell_type": "markdown",
      "metadata": {
        "id": "YyMXXlpY4Ajz"
      },
      "source": [
        "### 데이터 로드"
      ]
    },
    {
      "cell_type": "code",
      "metadata": {
        "id": "wNnbw2tH2EiP",
        "colab": {
          "base_uri": "https://localhost:8080/"
        },
        "outputId": "83e00f07-832a-47c4-9026-caec9f4c9a41"
      },
      "source": [
        "num_words=1000\n",
        "max_len=20\n",
        "\n",
        "(x_train, y_train), (x_test, y_test)=imdb.load_data(num_words=num_words)"
      ],
      "execution_count": null,
      "outputs": [
        {
          "output_type": "stream",
          "name": "stdout",
          "text": [
            "Downloading data from https://storage.googleapis.com/tensorflow/tf-keras-datasets/imdb.npz\n",
            "17464789/17464789 [==============================] - 0s 0us/step\n"
          ]
        }
      ]
    },
    {
      "cell_type": "code",
      "metadata": {
        "id": "OGnkPs_U2Ezk",
        "colab": {
          "base_uri": "https://localhost:8080/"
        },
        "outputId": "d3c0a412-6b26-4c0c-b5ed-492baf761e8d"
      },
      "source": [
        "print(x_train.shape)\n",
        "print(y_train.shape)\n",
        "print(x_test.shape)\n",
        "print(y_test.shape)"
      ],
      "execution_count": null,
      "outputs": [
        {
          "output_type": "stream",
          "name": "stdout",
          "text": [
            "(25000,)\n",
            "(25000,)\n",
            "(25000,)\n",
            "(25000,)\n"
          ]
        }
      ]
    },
    {
      "cell_type": "markdown",
      "metadata": {
        "id": "bvtDvmuX4_JB"
      },
      "source": [
        "### 데이터 확인\n",
        "- 긍정: 1\n",
        "- 부정: 0"
      ]
    },
    {
      "cell_type": "code",
      "metadata": {
        "id": "wFruX-Vp2ExJ",
        "colab": {
          "base_uri": "https://localhost:8080/"
        },
        "outputId": "f217bd04-8cda-45b5-f354-b73df9be298e"
      },
      "source": [
        "print(x_train[0])\n",
        "print(y_train[0])"
      ],
      "execution_count": null,
      "outputs": [
        {
          "output_type": "stream",
          "name": "stdout",
          "text": [
            "[1, 14, 22, 16, 43, 530, 973, 2, 2, 65, 458, 2, 66, 2, 4, 173, 36, 256, 5, 25, 100, 43, 838, 112, 50, 670, 2, 9, 35, 480, 284, 5, 150, 4, 172, 112, 167, 2, 336, 385, 39, 4, 172, 2, 2, 17, 546, 38, 13, 447, 4, 192, 50, 16, 6, 147, 2, 19, 14, 22, 4, 2, 2, 469, 4, 22, 71, 87, 12, 16, 43, 530, 38, 76, 15, 13, 2, 4, 22, 17, 515, 17, 12, 16, 626, 18, 2, 5, 62, 386, 12, 8, 316, 8, 106, 5, 4, 2, 2, 16, 480, 66, 2, 33, 4, 130, 12, 16, 38, 619, 5, 25, 124, 51, 36, 135, 48, 25, 2, 33, 6, 22, 12, 215, 28, 77, 52, 5, 14, 407, 16, 82, 2, 8, 4, 107, 117, 2, 15, 256, 4, 2, 7, 2, 5, 723, 36, 71, 43, 530, 476, 26, 400, 317, 46, 7, 4, 2, 2, 13, 104, 88, 4, 381, 15, 297, 98, 32, 2, 56, 26, 141, 6, 194, 2, 18, 4, 226, 22, 21, 134, 476, 26, 480, 5, 144, 30, 2, 18, 51, 36, 28, 224, 92, 25, 104, 4, 226, 65, 16, 38, 2, 88, 12, 16, 283, 5, 16, 2, 113, 103, 32, 15, 16, 2, 19, 178, 32]\n",
            "1\n"
          ]
        }
      ]
    },
    {
      "cell_type": "code",
      "metadata": {
        "id": "xSZ37jXC5qoj",
        "colab": {
          "base_uri": "https://localhost:8080/"
        },
        "outputId": "2aeb6075-9161-4301-acb6-f3823e5130bb"
      },
      "source": [
        "for i in range(10):\n",
        "  if y_train[i]==0:\n",
        "    label='부정'\n",
        "  else:\n",
        "    label='긍정'\n",
        "\n",
        "  print('{}\\n{}'.format(x_train[i], label))"
      ],
      "execution_count": null,
      "outputs": [
        {
          "output_type": "stream",
          "name": "stdout",
          "text": [
            "[1, 14, 22, 16, 43, 530, 973, 2, 2, 65, 458, 2, 66, 2, 4, 173, 36, 256, 5, 25, 100, 43, 838, 112, 50, 670, 2, 9, 35, 480, 284, 5, 150, 4, 172, 112, 167, 2, 336, 385, 39, 4, 172, 2, 2, 17, 546, 38, 13, 447, 4, 192, 50, 16, 6, 147, 2, 19, 14, 22, 4, 2, 2, 469, 4, 22, 71, 87, 12, 16, 43, 530, 38, 76, 15, 13, 2, 4, 22, 17, 515, 17, 12, 16, 626, 18, 2, 5, 62, 386, 12, 8, 316, 8, 106, 5, 4, 2, 2, 16, 480, 66, 2, 33, 4, 130, 12, 16, 38, 619, 5, 25, 124, 51, 36, 135, 48, 25, 2, 33, 6, 22, 12, 215, 28, 77, 52, 5, 14, 407, 16, 82, 2, 8, 4, 107, 117, 2, 15, 256, 4, 2, 7, 2, 5, 723, 36, 71, 43, 530, 476, 26, 400, 317, 46, 7, 4, 2, 2, 13, 104, 88, 4, 381, 15, 297, 98, 32, 2, 56, 26, 141, 6, 194, 2, 18, 4, 226, 22, 21, 134, 476, 26, 480, 5, 144, 30, 2, 18, 51, 36, 28, 224, 92, 25, 104, 4, 226, 65, 16, 38, 2, 88, 12, 16, 283, 5, 16, 2, 113, 103, 32, 15, 16, 2, 19, 178, 32]\n",
            "긍정\n",
            "[1, 194, 2, 194, 2, 78, 228, 5, 6, 2, 2, 2, 134, 26, 4, 715, 8, 118, 2, 14, 394, 20, 13, 119, 954, 189, 102, 5, 207, 110, 2, 21, 14, 69, 188, 8, 30, 23, 7, 4, 249, 126, 93, 4, 114, 9, 2, 2, 5, 647, 4, 116, 9, 35, 2, 4, 229, 9, 340, 2, 4, 118, 9, 4, 130, 2, 19, 4, 2, 5, 89, 29, 952, 46, 37, 4, 455, 9, 45, 43, 38, 2, 2, 398, 4, 2, 26, 2, 5, 163, 11, 2, 2, 4, 2, 9, 194, 775, 7, 2, 2, 349, 2, 148, 605, 2, 2, 15, 123, 125, 68, 2, 2, 15, 349, 165, 2, 98, 5, 4, 228, 9, 43, 2, 2, 15, 299, 120, 5, 120, 174, 11, 220, 175, 136, 50, 9, 2, 228, 2, 5, 2, 656, 245, 2, 5, 4, 2, 131, 152, 491, 18, 2, 32, 2, 2, 14, 9, 6, 371, 78, 22, 625, 64, 2, 9, 8, 168, 145, 23, 4, 2, 15, 16, 4, 2, 5, 28, 6, 52, 154, 462, 33, 89, 78, 285, 16, 145, 95]\n",
            "부정\n",
            "[1, 14, 47, 8, 30, 31, 7, 4, 249, 108, 7, 4, 2, 54, 61, 369, 13, 71, 149, 14, 22, 112, 4, 2, 311, 12, 16, 2, 33, 75, 43, 2, 296, 4, 86, 320, 35, 534, 19, 263, 2, 2, 4, 2, 33, 89, 78, 12, 66, 16, 4, 360, 7, 4, 58, 316, 334, 11, 4, 2, 43, 645, 662, 8, 257, 85, 2, 42, 2, 2, 83, 68, 2, 15, 36, 165, 2, 278, 36, 69, 2, 780, 8, 106, 14, 2, 2, 18, 6, 22, 12, 215, 28, 610, 40, 6, 87, 326, 23, 2, 21, 23, 22, 12, 272, 40, 57, 31, 11, 4, 22, 47, 6, 2, 51, 9, 170, 23, 595, 116, 595, 2, 13, 191, 79, 638, 89, 2, 14, 9, 8, 106, 607, 624, 35, 534, 6, 227, 7, 129, 113]\n",
            "부정\n",
            "[1, 4, 2, 2, 33, 2, 4, 2, 432, 111, 153, 103, 4, 2, 13, 70, 131, 67, 11, 61, 2, 744, 35, 2, 761, 61, 2, 452, 2, 4, 985, 7, 2, 59, 166, 4, 105, 216, 2, 41, 2, 9, 15, 7, 35, 744, 2, 31, 8, 4, 687, 23, 4, 2, 2, 6, 2, 42, 38, 39, 121, 59, 456, 10, 10, 7, 265, 12, 575, 111, 153, 159, 59, 16, 2, 21, 25, 586, 482, 39, 4, 96, 59, 716, 12, 4, 172, 65, 9, 579, 11, 2, 4, 2, 5, 2, 7, 2, 17, 13, 2, 12, 19, 6, 464, 31, 314, 11, 2, 6, 719, 605, 11, 8, 202, 27, 310, 4, 2, 2, 8, 2, 58, 10, 10, 537, 2, 180, 40, 14, 413, 173, 7, 263, 112, 37, 152, 377, 4, 537, 263, 846, 579, 178, 54, 75, 71, 476, 36, 413, 263, 2, 182, 5, 17, 75, 2, 922, 36, 279, 131, 2, 17, 2, 42, 17, 35, 921, 2, 192, 5, 2, 2, 19, 2, 217, 2, 2, 537, 2, 2, 5, 736, 10, 10, 61, 403, 9, 2, 40, 61, 2, 5, 27, 2, 159, 90, 263, 2, 2, 309, 8, 178, 5, 82, 2, 4, 65, 15, 2, 145, 143, 2, 12, 2, 537, 746, 537, 537, 15, 2, 4, 2, 594, 7, 2, 94, 2, 2, 2, 11, 2, 4, 538, 7, 2, 246, 2, 9, 2, 11, 635, 14, 9, 51, 408, 12, 94, 318, 2, 12, 47, 6, 2, 936, 5, 2, 2, 19, 49, 7, 4, 2, 2, 2, 25, 80, 126, 842, 10, 10, 2, 2, 2, 27, 2, 11, 2, 2, 159, 27, 341, 29, 2, 19, 2, 173, 7, 90, 2, 8, 30, 11, 4, 2, 86, 2, 8, 2, 46, 11, 2, 21, 29, 9, 2, 23, 4, 2, 2, 793, 6, 2, 2, 2, 10, 10, 246, 50, 9, 6, 2, 2, 746, 90, 29, 2, 8, 124, 4, 882, 4, 882, 496, 27, 2, 2, 537, 121, 127, 2, 130, 5, 29, 494, 8, 124, 4, 882, 496, 4, 341, 7, 27, 846, 10, 10, 29, 9, 2, 8, 97, 6, 236, 2, 2, 8, 4, 2, 7, 31, 7, 2, 91, 2, 2, 70, 4, 882, 30, 579, 42, 9, 12, 32, 11, 537, 10, 10, 11, 14, 65, 44, 537, 75, 2, 2, 2, 2, 2, 4, 2, 7, 154, 5, 4, 518, 53, 2, 2, 7, 2, 882, 11, 399, 38, 75, 257, 2, 19, 2, 17, 29, 456, 4, 65, 7, 27, 205, 113, 10, 10, 2, 4, 2, 2, 9, 242, 4, 91, 2, 2, 5, 2, 307, 22, 7, 2, 126, 93, 40, 2, 13, 188, 2, 2, 19, 4, 2, 7, 2, 537, 23, 53, 537, 21, 82, 40, 2, 13, 2, 14, 280, 13, 219, 4, 2, 431, 758, 859, 4, 953, 2, 2, 7, 2, 5, 94, 40, 25, 238, 60, 2, 4, 2, 804, 2, 7, 4, 2, 132, 8, 67, 6, 22, 15, 9, 283, 8, 2, 14, 31, 9, 242, 955, 48, 25, 279, 2, 23, 12, 2, 195, 25, 238, 60, 796, 2, 4, 671, 7, 2, 5, 4, 559, 154, 888, 7, 726, 50, 26, 49, 2, 15, 566, 30, 579, 21, 64, 2]\n",
            "긍정\n",
            "[1, 249, 2, 7, 61, 113, 10, 10, 13, 2, 14, 20, 56, 33, 2, 18, 457, 88, 13, 2, 2, 45, 2, 13, 70, 79, 49, 706, 919, 13, 16, 355, 340, 355, 2, 96, 143, 4, 22, 32, 289, 7, 61, 369, 71, 2, 5, 13, 16, 131, 2, 249, 114, 249, 229, 249, 20, 13, 28, 126, 110, 13, 473, 8, 569, 61, 419, 56, 429, 6, 2, 18, 35, 534, 95, 474, 570, 5, 25, 124, 138, 88, 12, 421, 2, 52, 725, 2, 61, 419, 11, 13, 2, 15, 2, 20, 11, 4, 2, 5, 296, 12, 2, 5, 15, 421, 128, 74, 233, 334, 207, 126, 224, 12, 562, 298, 2, 2, 7, 2, 5, 516, 988, 43, 8, 79, 120, 15, 595, 13, 784, 25, 2, 18, 165, 170, 143, 19, 14, 5, 2, 6, 226, 251, 7, 61, 113]\n",
            "부정\n",
            "[1, 778, 128, 74, 12, 630, 163, 15, 4, 2, 2, 2, 2, 32, 85, 156, 45, 40, 148, 139, 121, 664, 665, 10, 10, 2, 173, 4, 749, 2, 16, 2, 8, 4, 226, 65, 12, 43, 127, 24, 2, 10, 10]\n",
            "부정\n",
            "[1, 2, 365, 2, 5, 2, 354, 11, 14, 2, 2, 7, 2, 2, 2, 356, 44, 4, 2, 500, 746, 5, 200, 4, 2, 11, 2, 2, 2, 2, 2, 5, 2, 26, 6, 2, 2, 17, 369, 37, 215, 2, 143, 2, 5, 2, 8, 2, 15, 36, 119, 257, 85, 52, 486, 9, 6, 2, 2, 63, 271, 6, 196, 96, 949, 2, 4, 2, 7, 4, 2, 2, 819, 63, 47, 77, 2, 180, 6, 227, 11, 94, 2, 2, 13, 423, 4, 168, 7, 4, 22, 5, 89, 665, 71, 270, 56, 5, 13, 197, 12, 161, 2, 99, 76, 23, 2, 7, 419, 665, 40, 91, 85, 108, 7, 4, 2, 5, 2, 81, 55, 52, 2]\n",
            "긍정\n",
            "[1, 4, 2, 716, 4, 65, 7, 4, 689, 2, 2, 2, 2, 2, 2, 2, 2, 2, 2, 2, 2, 2, 4, 2, 628, 2, 37, 9, 150, 4, 2, 2, 11, 2, 4, 2, 847, 313, 6, 176, 2, 9, 2, 138, 9, 2, 19, 4, 96, 183, 26, 4, 192, 15, 27, 2, 799, 2, 2, 588, 84, 11, 4, 2, 152, 339, 2, 42, 2, 2, 2, 345, 2, 2, 142, 43, 218, 208, 54, 29, 853, 659, 46, 4, 882, 183, 80, 115, 30, 4, 172, 174, 10, 10, 2, 398, 2, 2, 526, 34, 2, 2, 2, 2, 17, 4, 2, 2, 871, 64, 85, 22, 2, 2, 38, 230, 9, 4, 2, 2, 251, 2, 2, 195, 301, 14, 16, 31, 7, 4, 2, 8, 783, 2, 33, 4, 2, 103, 465, 2, 42, 845, 45, 446, 11, 2, 19, 184, 76, 32, 4, 2, 207, 110, 13, 197, 4, 2, 16, 601, 964, 2, 595, 13, 258, 4, 2, 66, 338, 55, 2, 4, 550, 728, 65, 2, 8, 2, 61, 2, 42, 2, 61, 602, 120, 45, 2, 6, 320, 786, 99, 196, 2, 786, 2, 4, 225, 4, 373, 2, 33, 4, 130, 63, 69, 72, 2, 46, 2, 225, 14, 66, 194, 2, 2, 56, 8, 803, 2, 6, 2, 155, 11, 4, 2, 2, 45, 853, 2, 8, 30, 6, 117, 430, 19, 6, 2, 9, 15, 66, 424, 8, 2, 178, 9, 15, 66, 424, 8, 2, 178, 9, 15, 66, 142, 15, 9, 424, 8, 28, 178, 662, 44, 12, 17, 4, 130, 898, 2, 9, 6, 2, 267, 185, 430, 4, 118, 2, 277, 15, 4, 2, 100, 216, 56, 19, 4, 357, 114, 2, 367, 45, 115, 93, 788, 121, 4, 2, 79, 32, 68, 278, 39, 8, 818, 162, 2, 237, 600, 7, 98, 306, 8, 157, 549, 628, 11, 6, 2, 13, 824, 15, 2, 76, 42, 138, 36, 774, 77, 2, 159, 150, 4, 229, 497, 8, 2, 11, 175, 251, 453, 19, 2, 189, 12, 43, 127, 6, 394, 292, 7, 2, 4, 107, 8, 4, 2, 15, 2, 2, 9, 906, 42, 2, 6, 66, 78, 22, 15, 13, 244, 2, 8, 135, 233, 52, 44, 10, 10, 466, 112, 398, 526, 34, 4, 2, 2, 2, 2, 225, 57, 599, 133, 225, 6, 227, 7, 541, 2, 6, 171, 139, 7, 539, 2, 56, 11, 6, 2, 21, 164, 25, 426, 81, 33, 344, 624, 19, 6, 2, 7, 2, 2, 6, 2, 4, 22, 9, 2, 629, 237, 45, 188, 6, 55, 655, 707, 2, 956, 225, 2, 841, 42, 2, 225, 6, 2, 2, 2, 2, 21, 4, 2, 9, 364, 23, 4, 2, 2, 225, 24, 76, 133, 18, 4, 189, 2, 10, 10, 814, 11, 2, 11, 2, 14, 47, 15, 682, 364, 352, 168, 44, 12, 45, 24, 913, 93, 21, 247, 2, 4, 116, 34, 35, 2, 8, 72, 177, 9, 164, 8, 901, 344, 44, 13, 191, 135, 13, 126, 421, 233, 18, 259, 10, 10, 4, 2, 2, 4, 2, 2, 7, 112, 199, 753, 357, 39, 63, 12, 115, 2, 763, 8, 15, 35, 2, 2, 65, 57, 599, 6, 2, 277, 2, 37, 25, 92, 202, 6, 2, 44, 25, 28, 6, 22, 15, 122, 24, 2, 72, 33, 32]\n",
            "부정\n",
            "[1, 43, 188, 46, 5, 566, 264, 51, 6, 530, 664, 14, 9, 2, 81, 25, 2, 46, 7, 6, 20, 750, 11, 141, 2, 5, 2, 2, 102, 28, 413, 38, 120, 2, 15, 4, 2, 7, 2, 142, 371, 318, 5, 955, 2, 571, 2, 2, 122, 14, 8, 72, 54, 12, 86, 385, 46, 5, 14, 20, 9, 399, 8, 72, 150, 13, 161, 124, 6, 155, 44, 14, 159, 170, 83, 12, 5, 51, 6, 866, 48, 25, 842, 4, 2, 25, 238, 79, 4, 547, 15, 14, 9, 31, 7, 148, 2, 102, 44, 35, 480, 2, 2, 19, 120, 4, 350, 228, 5, 269, 8, 28, 178, 2, 2, 7, 51, 6, 87, 65, 12, 9, 979, 21, 95, 24, 2, 178, 11, 2, 14, 9, 24, 15, 20, 4, 84, 376, 4, 65, 14, 127, 141, 6, 52, 292, 7, 2, 175, 561, 7, 68, 2, 137, 75, 2, 68, 182, 5, 235, 175, 333, 19, 98, 50, 9, 38, 76, 724, 4, 2, 15, 166, 285, 36, 140, 143, 38, 76, 53, 2, 2, 4, 2, 16, 82, 6, 87, 2, 44, 2, 2, 5, 800, 4, 2, 11, 35, 2, 96, 21, 14, 22, 9, 76, 53, 7, 6, 406, 65, 13, 43, 219, 12, 639, 21, 13, 80, 140, 5, 135, 15, 14, 9, 31, 7, 4, 118, 2, 13, 28, 126, 110]\n",
            "긍정\n",
            "[1, 14, 20, 47, 111, 439, 2, 19, 12, 15, 166, 12, 216, 125, 40, 6, 364, 352, 707, 2, 39, 294, 11, 22, 396, 13, 28, 8, 202, 12, 2, 23, 94, 2, 151, 111, 211, 469, 4, 20, 13, 258, 546, 2, 2, 12, 16, 38, 78, 33, 211, 15, 12, 16, 2, 63, 93, 12, 6, 253, 106, 10, 10, 48, 335, 267, 18, 6, 364, 2, 2, 20, 19, 6, 2, 7, 2, 189, 5, 6, 2, 7, 2, 2, 95, 2, 6, 2, 7, 2, 2, 49, 369, 120, 5, 28, 49, 253, 10, 10, 13, 2, 19, 85, 795, 15, 4, 481, 9, 55, 78, 807, 9, 375, 8, 2, 8, 794, 76, 7, 4, 58, 5, 4, 816, 9, 243, 7, 43, 50]\n",
            "부정\n"
          ]
        }
      ]
    },
    {
      "cell_type": "markdown",
      "metadata": {
        "id": "izJKnVgY7NWl"
      },
      "source": [
        "### 데이터 전처리\n",
        "- 모든 데이터를 같은 길이로 맞추기\n",
        "\n",
        "  - `pad_sequence()`\n",
        "    - 데이터가 maxlen보다 길면 데이터를 자름\n",
        "\n",
        "    - 데이터가 길면 `padding` 설정\n",
        "      - `pre`: 데이터 앞에 0으로 채움\n",
        "      -  `post`: 데이터 뒤에 0으로 채움\n",
        "\n",
        "\n",
        "- 모든 데이터(문장 하나하나)가 같은 길이로 맞추어야 `Embedding` 레이어를 사용할 수 있음"
      ]
    },
    {
      "cell_type": "code",
      "metadata": {
        "id": "oAF2ZRV32Eup"
      },
      "source": [
        "from tensorflow.keras.preprocessing.sequence import pad_sequences"
      ],
      "execution_count": null,
      "outputs": []
    },
    {
      "cell_type": "code",
      "metadata": {
        "id": "NOEVDkuD2EqT"
      },
      "source": [
        "max_len=100\n",
        "\n",
        "# padding: 입력 배열의 빈공간을 가상으로 채우는 것\n",
        "pad_x_train=pad_sequences(x_train, maxlen=max_len,padding='pre') # pre는 비어있는 공간을 0으로 채워줌\n",
        "pad_x_test=pad_sequences(x_test, maxlen=max_len,padding='pre')"
      ],
      "execution_count": null,
      "outputs": []
    },
    {
      "cell_type": "code",
      "metadata": {
        "id": "nwpMCUb92Eoe",
        "colab": {
          "base_uri": "https://localhost:8080/"
        },
        "outputId": "f566119b-47c9-4320-fbf0-8fce239914f3"
      },
      "source": [
        "print(len(x_train[1]))\n",
        "print(len(pad_x_train[1]))"
      ],
      "execution_count": null,
      "outputs": [
        {
          "output_type": "stream",
          "name": "stdout",
          "text": [
            "189\n",
            "100\n"
          ]
        }
      ]
    },
    {
      "cell_type": "code",
      "metadata": {
        "id": "RF9sFjn62El8",
        "colab": {
          "base_uri": "https://localhost:8080/"
        },
        "outputId": "92fd806a-ad2d-4bd7-861e-2b54421141f4"
      },
      "source": [
        "print(x_train[0])\n",
        "print(pad_x_train[0])"
      ],
      "execution_count": null,
      "outputs": [
        {
          "output_type": "stream",
          "name": "stdout",
          "text": [
            "[1, 14, 22, 16, 43, 530, 973, 2, 2, 65, 458, 2, 66, 2, 4, 173, 36, 256, 5, 25, 100, 43, 838, 112, 50, 670, 2, 9, 35, 480, 284, 5, 150, 4, 172, 112, 167, 2, 336, 385, 39, 4, 172, 2, 2, 17, 546, 38, 13, 447, 4, 192, 50, 16, 6, 147, 2, 19, 14, 22, 4, 2, 2, 469, 4, 22, 71, 87, 12, 16, 43, 530, 38, 76, 15, 13, 2, 4, 22, 17, 515, 17, 12, 16, 626, 18, 2, 5, 62, 386, 12, 8, 316, 8, 106, 5, 4, 2, 2, 16, 480, 66, 2, 33, 4, 130, 12, 16, 38, 619, 5, 25, 124, 51, 36, 135, 48, 25, 2, 33, 6, 22, 12, 215, 28, 77, 52, 5, 14, 407, 16, 82, 2, 8, 4, 107, 117, 2, 15, 256, 4, 2, 7, 2, 5, 723, 36, 71, 43, 530, 476, 26, 400, 317, 46, 7, 4, 2, 2, 13, 104, 88, 4, 381, 15, 297, 98, 32, 2, 56, 26, 141, 6, 194, 2, 18, 4, 226, 22, 21, 134, 476, 26, 480, 5, 144, 30, 2, 18, 51, 36, 28, 224, 92, 25, 104, 4, 226, 65, 16, 38, 2, 88, 12, 16, 283, 5, 16, 2, 113, 103, 32, 15, 16, 2, 19, 178, 32]\n",
            "[  2  33   6  22  12 215  28  77  52   5  14 407  16  82   2   8   4 107\n",
            " 117   2  15 256   4   2   7   2   5 723  36  71  43 530 476  26 400 317\n",
            "  46   7   4   2   2  13 104  88   4 381  15 297  98  32   2  56  26 141\n",
            "   6 194   2  18   4 226  22  21 134 476  26 480   5 144  30   2  18  51\n",
            "  36  28 224  92  25 104   4 226  65  16  38   2  88  12  16 283   5  16\n",
            "   2 113 103  32  15  16   2  19 178  32]\n"
          ]
        }
      ]
    },
    {
      "cell_type": "markdown",
      "metadata": {
        "id": "iVSjFumg-TBt"
      },
      "source": [
        "### 모델 구성"
      ]
    },
    {
      "cell_type": "code",
      "metadata": {
        "id": "Blq1UZP92Ed4",
        "colab": {
          "base_uri": "https://localhost:8080/"
        },
        "outputId": "434f04a9-7ad8-43b3-a1d9-bc84862120aa"
      },
      "source": [
        "model=Sequential()\n",
        "\n",
        "model.add(Embedding(input_dim=num_words, output_dim=32,\n",
        "                    input_length=max_len))\n",
        "model.add(Flatten()) # 다차원의 레이어를 1차원으로 만들어줌\n",
        "model.add(Dense(1, activation='sigmoid'))\n",
        "\n",
        "model.summary()"
      ],
      "execution_count": null,
      "outputs": [
        {
          "output_type": "stream",
          "name": "stdout",
          "text": [
            "Model: \"sequential\"\n",
            "_________________________________________________________________\n",
            " Layer (type)                Output Shape              Param #   \n",
            "=================================================================\n",
            " embedding (Embedding)       (None, 100, 32)           32000     \n",
            "                                                                 \n",
            " flatten (Flatten)           (None, 3200)              0         \n",
            "                                                                 \n",
            " dense (Dense)               (None, 1)                 3201      \n",
            "                                                                 \n",
            "=================================================================\n",
            "Total params: 35201 (137.50 KB)\n",
            "Trainable params: 35201 (137.50 KB)\n",
            "Non-trainable params: 0 (0.00 Byte)\n",
            "_________________________________________________________________\n"
          ]
        }
      ]
    },
    {
      "cell_type": "markdown",
      "metadata": {
        "id": "H1VqPWEa-m9i"
      },
      "source": [
        "### 모델 컴파일 및 학습"
      ]
    },
    {
      "cell_type": "code",
      "metadata": {
        "id": "CEXe_6de2EcK"
      },
      "source": [
        "model.compile(optimizer='rmsprop',\n",
        "              loss='binary_crossentropy',\n",
        "              metrics=['acc'])"
      ],
      "execution_count": null,
      "outputs": []
    },
    {
      "cell_type": "code",
      "metadata": {
        "id": "Xr3pegjQ2Eal",
        "colab": {
          "base_uri": "https://localhost:8080/"
        },
        "outputId": "be3f3760-c5e0-4fa2-dc65-1fdc99b5d347"
      },
      "source": [
        "history=model.fit(pad_x_train, y_train,\n",
        "                  epochs=10,\n",
        "                  batch_size=32,\n",
        "                  validation_split=0.2)\n",
        "\n",
        "# 검증 정확도가 에폭 수가 늘어남에 따라 감소하는 것을 볼 때 과적합의 영향이 있음"
      ],
      "execution_count": null,
      "outputs": [
        {
          "output_type": "stream",
          "name": "stdout",
          "text": [
            "Epoch 1/10\n",
            "625/625 [==============================] - 20s 28ms/step - loss: 0.5732 - acc: 0.7038 - val_loss: 0.4307 - val_acc: 0.8034\n",
            "Epoch 2/10\n",
            "625/625 [==============================] - 5s 8ms/step - loss: 0.3787 - acc: 0.8327 - val_loss: 0.3845 - val_acc: 0.8220\n",
            "Epoch 3/10\n",
            "625/625 [==============================] - 5s 9ms/step - loss: 0.3396 - acc: 0.8526 - val_loss: 0.3865 - val_acc: 0.8230\n",
            "Epoch 4/10\n",
            "625/625 [==============================] - 4s 6ms/step - loss: 0.3115 - acc: 0.8691 - val_loss: 0.3879 - val_acc: 0.8226\n",
            "Epoch 5/10\n",
            "625/625 [==============================] - 3s 5ms/step - loss: 0.2823 - acc: 0.8848 - val_loss: 0.3954 - val_acc: 0.8226\n",
            "Epoch 6/10\n",
            "625/625 [==============================] - 4s 6ms/step - loss: 0.2512 - acc: 0.9011 - val_loss: 0.4132 - val_acc: 0.8182\n",
            "Epoch 7/10\n",
            "625/625 [==============================] - 5s 8ms/step - loss: 0.2185 - acc: 0.9201 - val_loss: 0.4252 - val_acc: 0.8136\n",
            "Epoch 8/10\n",
            "625/625 [==============================] - 4s 6ms/step - loss: 0.1866 - acc: 0.9380 - val_loss: 0.4415 - val_acc: 0.8120\n",
            "Epoch 9/10\n",
            "625/625 [==============================] - 2s 4ms/step - loss: 0.1570 - acc: 0.9525 - val_loss: 0.4667 - val_acc: 0.8032\n",
            "Epoch 10/10\n",
            "625/625 [==============================] - 2s 4ms/step - loss: 0.1298 - acc: 0.9642 - val_loss: 0.4911 - val_acc: 0.8020\n"
          ]
        }
      ]
    },
    {
      "cell_type": "markdown",
      "metadata": {
        "id": "-gNKkWKP_3c0"
      },
      "source": [
        "### 시각화"
      ]
    },
    {
      "cell_type": "code",
      "metadata": {
        "id": "PYKPQO1B_-EJ",
        "colab": {
          "base_uri": "https://localhost:8080/"
        },
        "outputId": "8d468f39-73cc-45bd-b1a7-a1c72b1bc34a"
      },
      "source": [
        "import matplotlib.pyplot as plt\n",
        "plt.style.use('seaborn-white')"
      ],
      "execution_count": null,
      "outputs": [
        {
          "output_type": "stream",
          "name": "stderr",
          "text": [
            "<ipython-input-18-60d85d81d40e>:2: MatplotlibDeprecationWarning: The seaborn styles shipped by Matplotlib are deprecated since 3.6, as they no longer correspond to the styles shipped by seaborn. However, they will remain available as 'seaborn-v0_8-<style>'. Alternatively, directly use the seaborn API instead.\n",
            "  plt.style.use('seaborn-white')\n"
          ]
        }
      ]
    },
    {
      "cell_type": "code",
      "metadata": {
        "id": "vMP67mYsAQ9q",
        "colab": {
          "base_uri": "https://localhost:8080/"
        },
        "outputId": "3f55303d-ce7c-46e0-d2ed-7f3cac01a2a3"
      },
      "source": [
        "hist_dict=history.history\n",
        "hist_dict.keys()"
      ],
      "execution_count": null,
      "outputs": [
        {
          "output_type": "execute_result",
          "data": {
            "text/plain": [
              "dict_keys(['loss', 'acc', 'val_loss', 'val_acc'])"
            ]
          },
          "metadata": {},
          "execution_count": 19
        }
      ]
    },
    {
      "cell_type": "code",
      "metadata": {
        "id": "d_EjuJva_4YP",
        "colab": {
          "base_uri": "https://localhost:8080/",
          "height": 833
        },
        "outputId": "d2d7b239-8776-41fa-f9c8-180200670405"
      },
      "source": [
        "plt.plot(hist_dict['loss'],'b-', label='Train Loss')\n",
        "plt.plot(hist_dict['val_loss'],'r:', label='Validation Loss')\n",
        "plt.legend()\n",
        "plt.grid()\n",
        "\n",
        "plt.figure()\n",
        "plt.plot(hist_dict['acc'],'b-', label='Train Accuracy')\n",
        "plt.plot(hist_dict['val_acc'],'r:', label='Validation Accuracy')\n",
        "plt.legend()\n",
        "plt.grid()"
      ],
      "execution_count": null,
      "outputs": [
        {
          "output_type": "display_data",
          "data": {
            "text/plain": [
              "<Figure size 640x480 with 1 Axes>"
            ],
            "image/png": "[encoded data removed]"
          },
          "metadata": {}
        },
        {
          "output_type": "display_data",
          "data": {
            "text/plain": [
              "<Figure size 640x480 with 1 Axes>"
            ],
            "image/png": "[encoded data removed]"
          },
          "metadata": {}
        }
      ]
    },
    {
      "cell_type": "markdown",
      "metadata": {
        "id": "3GtELilA_avO"
      },
      "source": [
        "### 모델 평가"
      ]
    },
    {
      "cell_type": "code",
      "metadata": {
        "id": "_U0Dz9je2ESh",
        "colab": {
          "base_uri": "https://localhost:8080/"
        },
        "outputId": "9cc8de76-cf4f-4d34-cb65-c913e38ed7fe"
      },
      "source": [
        "model.evaluate(pad_x_test, y_test)"
      ],
      "execution_count": null,
      "outputs": [
        {
          "output_type": "stream",
          "name": "stdout",
          "text": [
            "782/782 [==============================] - 2s 2ms/step - loss: 0.4796 - acc: 0.8051\n"
          ]
        },
        {
          "output_type": "execute_result",
          "data": {
            "text/plain": [
              "[0.4795627295970917, 0.805079996585846]"
            ]
          },
          "metadata": {},
          "execution_count": 21
        }
      ]
    },
    {
      "cell_type": "markdown",
      "metadata": {
        "id": "6aJqudd0AwGa"
      },
      "source": [
        "### 단어의 수를 늘린 후 재학습\n",
        "\n",
        "- 더 많은 정보를 학습할 수 있고, 임베딩 레이어가 풍부하게 표현될 수 있음. 과적합 감소, 저확한 패딩"
      ]
    },
    {
      "cell_type": "code",
      "metadata": {
        "id": "C1itQHMDA1hn"
      },
      "source": [
        "\n",
        "num_words=2000\n",
        "max_len=400\n",
        "\n",
        "(x_train, y_train), (x_test, y_test)=imdb.load_data(num_words=num_words)\n",
        "\n",
        "pad_x_train_2=pad_sequences(x_train, maxlen=max_len,padding='pre')\n",
        "pad_x_test_2=pad_sequences(x_test, maxlen=max_len,padding='pre')"
      ],
      "execution_count": null,
      "outputs": []
    },
    {
      "cell_type": "markdown",
      "metadata": {
        "id": "e2WL_yueBibH"
      },
      "source": [
        "데이터 확인"
      ]
    },
    {
      "cell_type": "code",
      "metadata": {
        "id": "AydBwyBMA1ku",
        "colab": {
          "base_uri": "https://localhost:8080/"
        },
        "outputId": "7356b75d-f2be-4c94-e890-859d1635aea4"
      },
      "source": [
        "print(x_train[0])\n",
        "print(x_test[0])"
      ],
      "execution_count": null,
      "outputs": [
        {
          "output_type": "stream",
          "name": "stdout",
          "text": [
            "[1, 14, 22, 16, 43, 530, 973, 1622, 1385, 65, 458, 2, 66, 2, 4, 173, 36, 256, 5, 25, 100, 43, 838, 112, 50, 670, 2, 9, 35, 480, 284, 5, 150, 4, 172, 112, 167, 2, 336, 385, 39, 4, 172, 2, 1111, 17, 546, 38, 13, 447, 4, 192, 50, 16, 6, 147, 2, 19, 14, 22, 4, 1920, 2, 469, 4, 22, 71, 87, 12, 16, 43, 530, 38, 76, 15, 13, 1247, 4, 22, 17, 515, 17, 12, 16, 626, 18, 2, 5, 62, 386, 12, 8, 316, 8, 106, 5, 4, 2, 2, 16, 480, 66, 2, 33, 4, 130, 12, 16, 38, 619, 5, 25, 124, 51, 36, 135, 48, 25, 1415, 33, 6, 22, 12, 215, 28, 77, 52, 5, 14, 407, 16, 82, 2, 8, 4, 107, 117, 2, 15, 256, 4, 2, 7, 2, 5, 723, 36, 71, 43, 530, 476, 26, 400, 317, 46, 7, 4, 2, 1029, 13, 104, 88, 4, 381, 15, 297, 98, 32, 2, 56, 26, 141, 6, 194, 2, 18, 4, 226, 22, 21, 134, 476, 26, 480, 5, 144, 30, 2, 18, 51, 36, 28, 224, 92, 25, 104, 4, 226, 65, 16, 38, 1334, 88, 12, 16, 283, 5, 16, 2, 113, 103, 32, 15, 16, 2, 19, 178, 32]\n",
            "[1, 591, 202, 14, 31, 6, 717, 10, 10, 2, 2, 5, 4, 360, 7, 4, 177, 2, 394, 354, 4, 123, 9, 1035, 1035, 1035, 10, 10, 13, 92, 124, 89, 488, 2, 100, 28, 1668, 14, 31, 23, 27, 2, 29, 220, 468, 8, 124, 14, 286, 170, 8, 157, 46, 5, 27, 239, 16, 179, 2, 38, 32, 25, 2, 451, 202, 14, 6, 717]\n"
          ]
        }
      ]
    },
    {
      "cell_type": "code",
      "metadata": {
        "id": "mK2kQxNUA1eB",
        "colab": {
          "base_uri": "https://localhost:8080/"
        },
        "outputId": "79fb98fd-b931-4f19-84d4-6c245324b4f4"
      },
      "source": [
        "model=Sequential()\n",
        "\n",
        "model.add(Embedding(input_dim=num_words, output_dim=32,\n",
        "                    input_length=max_len))\n",
        "model.add(Flatten())\n",
        "model.add(Dense(1, activation='sigmoid'))\n",
        "\n",
        "model.summary()"
      ],
      "execution_count": null,
      "outputs": [
        {
          "output_type": "stream",
          "name": "stdout",
          "text": [
            "Model: \"sequential_1\"\n",
            "_________________________________________________________________\n",
            " Layer (type)                Output Shape              Param #   \n",
            "=================================================================\n",
            " embedding_1 (Embedding)     (None, 400, 32)           64000     \n",
            "                                                                 \n",
            " flatten_1 (Flatten)         (None, 12800)             0         \n",
            "                                                                 \n",
            " dense_1 (Dense)             (None, 1)                 12801     \n",
            "                                                                 \n",
            "=================================================================\n",
            "Total params: 76801 (300.00 KB)\n",
            "Trainable params: 76801 (300.00 KB)\n",
            "Non-trainable params: 0 (0.00 Byte)\n",
            "_________________________________________________________________\n"
          ]
        }
      ]
    },
    {
      "cell_type": "code",
      "metadata": {
        "id": "I5BK5HXnBtIN"
      },
      "source": [
        "model.compile(optimizer='rmsprop',\n",
        "              loss='binary_crossentropy',\n",
        "              metrics=['acc'])"
      ],
      "execution_count": null,
      "outputs": []
    },
    {
      "cell_type": "code",
      "metadata": {
        "id": "odClZim0Bs-O",
        "colab": {
          "base_uri": "https://localhost:8080/"
        },
        "outputId": "d97d47f7-424c-411d-bfbd-dfaf8a1f6ace"
      },
      "source": [
        "history2=model.fit(pad_x_train_2, y_train,\n",
        "                  epochs=10,\n",
        "                  batch_size=32,\n",
        "                  validation_split=0.2)"
      ],
      "execution_count": null,
      "outputs": [
        {
          "output_type": "stream",
          "name": "stdout",
          "text": [
            "Epoch 1/10\n",
            "625/625 [==============================] - 32s 50ms/step - loss: 0.5220 - acc: 0.7326 - val_loss: 0.3572 - val_acc: 0.8414\n",
            "Epoch 2/10\n",
            "625/625 [==============================] - 8s 14ms/step - loss: 0.2911 - acc: 0.8777 - val_loss: 0.3238 - val_acc: 0.8582\n",
            "Epoch 3/10\n",
            "625/625 [==============================] - 7s 12ms/step - loss: 0.2334 - acc: 0.9089 - val_loss: 0.3136 - val_acc: 0.8736\n",
            "Epoch 4/10\n",
            "625/625 [==============================] - 4s 6ms/step - loss: 0.1877 - acc: 0.9322 - val_loss: 0.3325 - val_acc: 0.8622\n",
            "Epoch 5/10\n",
            "625/625 [==============================] - 4s 7ms/step - loss: 0.1467 - acc: 0.9506 - val_loss: 0.3314 - val_acc: 0.8724\n",
            "Epoch 6/10\n",
            "625/625 [==============================] - 3s 5ms/step - loss: 0.1098 - acc: 0.9664 - val_loss: 0.3554 - val_acc: 0.8672\n",
            "Epoch 7/10\n",
            "625/625 [==============================] - 2s 4ms/step - loss: 0.0798 - acc: 0.9797 - val_loss: 0.3829 - val_acc: 0.8608\n",
            "Epoch 8/10\n",
            "625/625 [==============================] - 3s 4ms/step - loss: 0.0563 - acc: 0.9874 - val_loss: 0.4086 - val_acc: 0.8546\n",
            "Epoch 9/10\n",
            "625/625 [==============================] - 3s 5ms/step - loss: 0.0379 - acc: 0.9934 - val_loss: 0.4449 - val_acc: 0.8544\n",
            "Epoch 10/10\n",
            "625/625 [==============================] - 2s 4ms/step - loss: 0.0258 - acc: 0.9959 - val_loss: 0.4856 - val_acc: 0.8540\n"
          ]
        }
      ]
    },
    {
      "cell_type": "code",
      "metadata": {
        "id": "rVPTlmjZB--j",
        "colab": {
          "base_uri": "https://localhost:8080/"
        },
        "outputId": "34593a59-1b79-4bb2-b2ab-168135c79ffb"
      },
      "source": [
        "hist_dict2=history.history\n",
        "hist_dict2.keys()"
      ],
      "execution_count": null,
      "outputs": [
        {
          "output_type": "execute_result",
          "data": {
            "text/plain": [
              "dict_keys(['loss', 'acc', 'val_loss', 'val_acc'])"
            ]
          },
          "metadata": {},
          "execution_count": 27
        }
      ]
    },
    {
      "cell_type": "code",
      "metadata": {
        "id": "mZ5WbSX_CHUa",
        "colab": {
          "base_uri": "https://localhost:8080/",
          "height": 833
        },
        "outputId": "4ba707b9-9416-4c69-f44d-807393cac903"
      },
      "source": [
        "plt.plot(hist_dict['loss'],'b-', label='Train Loss')\n",
        "plt.plot(hist_dict['val_loss'],'r:', label='Validation Loss')\n",
        "plt.legend()\n",
        "plt.grid()\n",
        "\n",
        "plt.figure()\n",
        "plt.plot(hist_dict2['acc'],'b-', label='Train Accuracy')\n",
        "plt.plot(hist_dict2['val_acc'],'r:', label='Validation Accuracy')\n",
        "plt.legend()\n",
        "plt.grid()"
      ],
      "execution_count": null,
      "outputs": [
        {
          "output_type": "display_data",
          "data": {
            "text/plain": [
              "<Figure size 640x480 with 1 Axes>"
            ],
            "image/png": "[encoded data removed]"
          },
          "metadata": {}
        },
        {
          "output_type": "display_data",
          "data": {
            "text/plain": [
              "<Figure size 640x480 with 1 Axes>"
            ],
            "image/png": "[encoded data removed]"
          },
          "metadata": {}
        }
      ]
    },
    {
      "cell_type": "code",
      "source": [
        "model.evaluate(pad_x_test_2, y_test)"
      ],
      "metadata": {
        "colab": {
          "base_uri": "https://localhost:8080/"
        },
        "id": "VJrjzoatkwyC",
        "outputId": "0ec27b97-1626-4142-f1d7-adfe1222224a"
      },
      "execution_count": null,
      "outputs": [
        {
          "output_type": "stream",
          "name": "stdout",
          "text": [
            "782/782 [==============================] - 2s 2ms/step - loss: 0.4722 - acc: 0.8499\n"
          ]
        },
        {
          "output_type": "execute_result",
          "data": {
            "text/plain": [
              "[0.47216469049453735, 0.8498799800872803]"
            ]
          },
          "metadata": {},
          "execution_count": 29
        }
      ]
    },
    {
      "cell_type": "markdown",
      "metadata": {
        "id": "6I0C5ueK73_g"
      },
      "source": [
        "위의 결과도 나쁘지 않으나 과적합이 되는 이유\n",
        "- 단어간 관계나 문장 구조 등 의미적 연결을 고려하지 않음\n",
        "\n",
        "- 시퀀스 전체를 고려한 특성을 학습하는 것은 `Embedding`층 위에 `RNN`층이나 `1D 합성곱`을 추가하는 것이 좋음\n"
      ]
    },
    {
      "cell_type": "markdown",
      "metadata": {
        "id": "ud_-PnE873_h"
      },
      "source": [
        "## Word2Vec\n",
        "\n",
        "- 2013년, Mikolov 와 동료들이 제안한 모형\n",
        "\n",
        "- 분류 등과 같이 별도의 레이블이 없이 텍스트 자체만 있어도 학습이 가능\n",
        "\n",
        "- Word2Vec의 방식  <- 단어간의 유사도를 반영\n",
        "  주변 단어의 관계를 이용\n",
        "\n",
        "  - CBOW(continuous bag-of-words)\n",
        "    - 주변단어의 임베딩을 더해서 대상단어를 예측\n",
        "\n",
        "  - Skip-Gram\n",
        "    - 대상 단어의 임베딩으로 주변단어를 예측\n",
        "\n",
        "    - 일반적으로 CBOW보다 성능이 좋은 편\n",
        "\n",
        "    - 한번에 여러 단어를 예측해야하기 때문에 비효율적  \n",
        "      최근에는 **negative sampling**이라는 방법을 사용\n",
        "\n",
        "  <img src=\"https://www.researchgate.net/publication/328160770/figure/fig14/AS:679665089925122@1539056193562/CBOW-and-Skip-Gram-neural-architectures.ppm\">\n",
        "\n",
        "  <sub>출처: https://www.researchgate.net/figure/CBOW-and-Skip-Gram-neural-architectures_fig14_328160770</sub>"
      ]
    },
    {
      "cell_type": "markdown",
      "metadata": {
        "id": "QARhfhIt1j4I"
      },
      "source": [
        "## T-SNE"
      ]
    },
    {
      "cell_type": "markdown",
      "metadata": {
        "id": "v9ymcBIKl40u"
      },
      "source": [
        "* T-SNE(t-Stochastic Neighbor Embedding)은 고차원의 벡터들의 구조를 보존하며 저차원으로 사상하는 차원 축소 알고리즘\n",
        "* 단어 임베딩에서도 생성된 고차원 벡터들을 시각화하기 위해 이 T-SNE 알고리즘을 많이 이용\n",
        "\n",
        "* t-sne는 가장 먼저 원 공간의 데이터 유사도 $p_{ij}$와 임베딩 공간의 데이터 유사도 $q_{ij}$를 정의\n",
        "* $x_i$에서 $x_j$ 간의 유사도 $p_{j|i}$ 는 다음과 같이 정의\n",
        "\n",
        "$$ p_{j|i} = \\frac {exp({-|x_i - x_j|}^2 / 2  \\sigma^2_i)}{\\sum_{k \\neq i}exp({-|x_i - x_k|}^2 / 2  \\sigma^2_i)} $$\n",
        "\n",
        "* 설명하자면 $p_{j|i}$는 $x_i$와 $x_j$ 간의 거리에서 가중치 $\\sigma^2_i$로 나눈 후, 이를 negative exponential을 취해 모든 점 간의 거리의 합과 나누어준 값으로 두 점 간의 거리가 가까울 수록 큰 값을 가짐\n",
        "\n",
        "* 또한 임베딩 공간에서의 $y_i$에서 $y_j$ 간의 유사도 $q_{j|i}$ 는 다음과 같이 정의\n",
        "\n",
        "$$ q_{j|i} = \\frac {(1 + |y_i-y_j|^2)^{-1}}{\\sum_{k \\neq l}(1 + |y_i-y_j|^2)^{-1}} $$\n",
        "\n",
        "* $q_{j|i}$는 $x_i$와 $x_j$ 간의 거리에서 1을 더해준 후 역수를 취한 값과 전체 합산 값과 나누어 유사도를 정의\n",
        "\n",
        "* T-SNE의 학습은 $p_{j|i}$와 비슷해지도록 $q_{j|i}$의 위치를 조정하는 것이라고 할 수 있음\n",
        "\n"
      ]
    },
    {
      "cell_type": "markdown",
      "metadata": {
        "id": "d7ocZw5XSRDN"
      },
      "source": [
        "## 데이터 준비"
      ]
    },
    {
      "cell_type": "code",
      "metadata": {
        "id": "ohSE_JnMSRDR",
        "colab": {
          "base_uri": "https://localhost:8080/",
          "height": 244
        },
        "outputId": "231b0b40-aad2-4412-c555-24a06819de6e"
      },
      "source": [
        "from sklearn.datasets import fetch_20newsgroups\n",
        "\n",
        "dataset=fetch_20newsgroups(shuffle=True, random_state=1,\n",
        "                           remove=('headers','footers','quotes'))\n",
        "documents=dataset.data\n",
        "\n",
        "print(len(documents))\n",
        "documents[3]"
      ],
      "execution_count": null,
      "outputs": [
        {
          "output_type": "stream",
          "name": "stdout",
          "text": [
            "11314\n"
          ]
        },
        {
          "output_type": "execute_result",
          "data": {
            "text/plain": [
              "'Notwithstanding all the legitimate fuss about this proposal, how much\\nof a change is it?  ATT\\'s last product in this area (a) was priced over\\n$1000, as I suspect \\'clipper\\' phones will be; (b) came to the customer \\nwith the key automatically preregistered with government authorities. Thus,\\naside from attempting to further legitimize and solidify the fed\\'s posture,\\nClipper seems to be \"more of the same\", rather than a new direction.\\n   Yes, technology will eventually drive the cost down and thereby promote\\nmore widespread use- but at present, the man on the street is not going\\nto purchase a $1000 crypto telephone, especially when the guy on the other\\nend probably doesn\\'t have one anyway.  Am I missing something?\\n   The real question is what the gov will do in a year or two when air-\\ntight voice privacy on a phone line is as close as your nearest pc.  That\\nhas got to a problematic scenario for them, even if the extent of usage\\nnever surpasses the \\'underground\\' stature of PGP.'"
            ],
            "application/vnd.google.colaboratory.intrinsic+json": {
              "type": "string"
            }
          },
          "metadata": {},
          "execution_count": 30
        }
      ]
    },
    {
      "cell_type": "code",
      "metadata": {
        "id": "E56d3KXroenQ",
        "colab": {
          "base_uri": "https://localhost:8080/"
        },
        "outputId": "250f97e8-4737-401b-f445-c45a57ee668d"
      },
      "source": [
        "import re\n",
        "import nltk\n",
        "from nltk.corpus import stopwords\n",
        "from nltk.tokenize import word_tokenize\n",
        "\n",
        "nltk.download('stopwords')\n",
        "nltk.download('punkt')\n",
        "\n",
        "def clean_text(d):\n",
        "  pattern=r'[^a-zA=Z\\s]'\n",
        "  text=re.sub(pattern,'',d)\n",
        "  return d\n",
        "\n",
        "def clean_stopword(d):\n",
        "  stop_word=stopwords.words('english')\n",
        "  return ' '.join([w.lower() for w in d.split() if w not in stop_word and len(w)>3])\n",
        "\n",
        "def tokenize(d):\n",
        "  return word_tokenize(d)"
      ],
      "execution_count": null,
      "outputs": [
        {
          "output_type": "stream",
          "name": "stderr",
          "text": [
            "[nltk_data] Downloading package stopwords to /root/nltk_data...\n",
            "[nltk_data]   Unzipping corpora/stopwords.zip.\n",
            "[nltk_data] Downloading package punkt to /root/nltk_data...\n",
            "[nltk_data]   Unzipping tokenizers/punkt.zip.\n"
          ]
        }
      ]
    },
    {
      "cell_type": "code",
      "metadata": {
        "id": "QCo9S9RlrfQg",
        "colab": {
          "base_uri": "https://localhost:8080/"
        },
        "outputId": "59ca50cc-bed4-48d5-e676-f6222edacf11"
      },
      "source": [
        "import pandas as pd\n",
        "\n",
        "news_df=pd.DataFrame({'article':documents})\n",
        "len(news_df)"
      ],
      "execution_count": null,
      "outputs": [
        {
          "output_type": "execute_result",
          "data": {
            "text/plain": [
              "11314"
            ]
          },
          "metadata": {},
          "execution_count": 32
        }
      ]
    },
    {
      "cell_type": "code",
      "metadata": {
        "id": "9xzZu6Iprj5B",
        "colab": {
          "base_uri": "https://localhost:8080/"
        },
        "outputId": "1b3ae3fe-fe49-4e77-9253-c51099fba6c0"
      },
      "source": [
        "news_df.replace('',float('NaN'),inplace=True)\n",
        "news_df.dropna(inplace=True)\n",
        "print(len(news_df))"
      ],
      "execution_count": null,
      "outputs": [
        {
          "output_type": "stream",
          "name": "stdout",
          "text": [
            "11096\n"
          ]
        }
      ]
    },
    {
      "cell_type": "code",
      "metadata": {
        "id": "Oi3PJ7dMsF8K",
        "colab": {
          "base_uri": "https://localhost:8080/"
        },
        "outputId": "a7274223-361e-44f2-c099-1c2031476a43"
      },
      "source": [
        "news_df['article']=news_df['article'].apply(clean_text)\n",
        "news_df['article']"
      ],
      "execution_count": null,
      "outputs": [
        {
          "output_type": "execute_result",
          "data": {
            "text/plain": [
              "0        Well i'm not sure about the story nad it did s...\n",
              "1        \\n\\n\\n\\n\\n\\n\\nYeah, do you expect people to re...\n",
              "2        Although I realize that principle is not one o...\n",
              "3        Notwithstanding all the legitimate fuss about ...\n",
              "4        Well, I will have to change the scoring on my ...\n",
              "                               ...                        \n",
              "11309    Danny Rubenstein, an Israeli journalist, will ...\n",
              "11310                                                   \\n\n",
              "11311    \\nI agree.  Home runs off Clemens are always m...\n",
              "11312    I used HP DeskJet with Orange Micros Grappler ...\n",
              "11313                                          ^^^^^^\\n...\n",
              "Name: article, Length: 11096, dtype: object"
            ]
          },
          "metadata": {},
          "execution_count": 34
        }
      ]
    },
    {
      "cell_type": "code",
      "metadata": {
        "id": "ViSra6MYuM9x",
        "colab": {
          "base_uri": "https://localhost:8080/"
        },
        "outputId": "dee7233d-61af-4516-c4bf-c46c60293cd1"
      },
      "source": [
        "news_df['article']=news_df['article'].apply(clean_stopword)\n",
        "news_df['article']"
      ],
      "execution_count": null,
      "outputs": [
        {
          "output_type": "execute_result",
          "data": {
            "text/plain": [
              "0        well sure story seem biased. what disagree sta...\n",
              "1        yeah, expect people read faq, etc. actually ac...\n",
              "2        although realize principle strongest points, w...\n",
              "3        notwithstanding legitimate fuss proposal, much...\n",
              "4        well, change scoring playoff pool. unfortunate...\n",
              "                               ...                        \n",
              "11309    danny rubenstein, israeli journalist, speaking...\n",
              "11310                                                     \n",
              "11311    agree. home runs clemens always memorable. kin...\n",
              "11312    used deskjet orange micros grappler system6.0....\n",
              "11313    ^^^^^^ argument murphy. scared hell came last ...\n",
              "Name: article, Length: 11096, dtype: object"
            ]
          },
          "metadata": {},
          "execution_count": 35
        }
      ]
    },
    {
      "cell_type": "code",
      "metadata": {
        "id": "Z3JgTpVfSRD_"
      },
      "source": [
        "tokenized_news=news_df['article'].apply(tokenize)\n",
        "tokenized_news=tokenized_news.to_list()"
      ],
      "execution_count": null,
      "outputs": []
    },
    {
      "cell_type": "code",
      "metadata": {
        "id": "uMCYgUIpSREH",
        "colab": {
          "base_uri": "https://localhost:8080/"
        },
        "outputId": "9e7a3dd0-f351-4fb2-8de2-b59ec1cdd8e4"
      },
      "source": [
        "import numpy as np\n",
        "\n",
        "drop_indices=[index for index, sentence in enumerate(tokenized_news) if len(sentence)<=1]\n",
        "news_texts = [sentence for index, sentence in enumerate(tokenized_news) if index not in drop_indices]\n",
        "print(len(news_texts))"
      ],
      "execution_count": null,
      "outputs": [
        {
          "output_type": "stream",
          "name": "stdout",
          "text": [
            "10991\n"
          ]
        }
      ]
    },
    {
      "cell_type": "markdown",
      "metadata": {
        "id": "IJ8Zkrar1umI"
      },
      "source": [
        "## Gensim을 이용한 Word2Vec"
      ]
    },
    {
      "cell_type": "markdown",
      "metadata": {
        "id": "-vw3V1fPp88u"
      },
      "source": [
        "### CBOW"
      ]
    },
    {
      "cell_type": "code",
      "metadata": {
        "id": "aByJKUOXp-64"
      },
      "source": [
        "from gensim.models import Word2Vec\n",
        "\n",
        "model=Word2Vec(sentences=news_texts, window=4,\n",
        "               vector_size=100, min_count=5, workers=4, sg=0)"
      ],
      "execution_count": null,
      "outputs": []
    },
    {
      "cell_type": "code",
      "metadata": {
        "id": "u9Qigdn1THXO",
        "colab": {
          "base_uri": "https://localhost:8080/"
        },
        "outputId": "7e585c11-8c4a-41fe-ed8a-59bf2061804d"
      },
      "source": [
        "model.wv.similarity('man','woman')"
      ],
      "execution_count": null,
      "outputs": [
        {
          "output_type": "execute_result",
          "data": {
            "text/plain": [
              "0.7779491"
            ]
          },
          "metadata": {},
          "execution_count": 53
        }
      ]
    },
    {
      "cell_type": "code",
      "metadata": {
        "id": "Yp8qBYyITHXd",
        "colab": {
          "base_uri": "https://localhost:8080/"
        },
        "outputId": "cbea09cc-662b-4759-848a-3cc69c6fe478"
      },
      "source": [
        "model.wv.most_similar(positive=['soldiers'])"
      ],
      "execution_count": null,
      "outputs": [
        {
          "output_type": "execute_result",
          "data": {
            "text/plain": [
              "[('killed', 0.9709558486938477),\n",
              " ('turks', 0.9681643843650818),\n",
              " ('villages', 0.9666452407836914),\n",
              " ('fighting', 0.9599354863166809),\n",
              " ('genocide', 0.9555544257164001),\n",
              " ('kurds', 0.9499911665916443),\n",
              " ('murdered', 0.9457260966300964),\n",
              " ('wounded', 0.9455573558807373),\n",
              " ('civilians', 0.9445322155952454),\n",
              " ('greeks', 0.9440751671791077)]"
            ]
          },
          "metadata": {},
          "execution_count": 54
        }
      ]
    },
    {
      "cell_type": "code",
      "metadata": {
        "id": "eVjZt1u0THX1",
        "colab": {
          "base_uri": "https://localhost:8080/"
        },
        "outputId": "12942046-bb9c-4c1f-c377-068493f66d42"
      },
      "source": [
        "model.wv.most_similar(positive=['man','soldiers'],negative=['woman'])"
      ],
      "execution_count": null,
      "outputs": [
        {
          "output_type": "execute_result",
          "data": {
            "text/plain": [
              "[('jeezus', 0.8686949610710144),\n",
              " ('acts', 0.8661125898361206),\n",
              " ('saints', 0.8651002645492554),\n",
              " ('men', 0.8639243841171265),\n",
              " ('jew', 0.8631976246833801),\n",
              " ('cor', 0.8615726232528687),\n",
              " ('ill', 0.8552998304367065),\n",
              " ('judas', 0.8548388481140137),\n",
              " ('gentile', 0.854394793510437),\n",
              " ('hatred', 0.8477730751037598)]"
            ]
          },
          "metadata": {},
          "execution_count": 55
        }
      ]
    },
    {
      "cell_type": "markdown",
      "metadata": {
        "id": "bKUEE4nnp5CR"
      },
      "source": [
        "### Skip-gram"
      ]
    },
    {
      "cell_type": "code",
      "metadata": {
        "id": "BGFj05bES53-"
      },
      "source": [
        "from gensim.models import Word2Vec\n",
        "\n",
        "model=Word2Vec(sentences=news_texts, window=4,\n",
        "               vector_size=100, min_count=5, workers=4, sg=1)"
      ],
      "execution_count": null,
      "outputs": []
    },
    {
      "cell_type": "code",
      "metadata": {
        "id": "s4m5KmQVTAje",
        "colab": {
          "base_uri": "https://localhost:8080/"
        },
        "outputId": "bf16508b-18b2-4cd9-d37e-63091a858def"
      },
      "source": [
        "model.wv.similarity('man','woman')"
      ],
      "execution_count": null,
      "outputs": [
        {
          "output_type": "execute_result",
          "data": {
            "text/plain": [
              "0.8199586"
            ]
          },
          "metadata": {},
          "execution_count": 58
        }
      ]
    },
    {
      "cell_type": "code",
      "metadata": {
        "id": "0ezmKn03TC3d",
        "colab": {
          "base_uri": "https://localhost:8080/"
        },
        "outputId": "7525d520-6a42-4622-bccd-ddd629b17cdf"
      },
      "source": [
        "model.wv.most_similar(positive=['soldiers'])"
      ],
      "execution_count": null,
      "outputs": [
        {
          "output_type": "execute_result",
          "data": {
            "text/plain": [
              "[('wounded', 0.9159243702888489),\n",
              " ('villages', 0.9059180021286011),\n",
              " ('azerbaijanis', 0.9036656618118286),\n",
              " ('murdered', 0.8971460461616516),\n",
              " ('survivors', 0.8902629613876343),\n",
              " ('azeri', 0.8887226581573486),\n",
              " ('troops', 0.8876909017562866),\n",
              " ('corpses', 0.8870213031768799),\n",
              " ('civilians', 0.8853437304496765),\n",
              " ('kurds', 0.8836894631385803)]"
            ]
          },
          "metadata": {},
          "execution_count": 59
        }
      ]
    },
    {
      "cell_type": "code",
      "source": [
        "model.wv.most_similar(positive=['man','soldiers'],negative=['woman'])"
      ],
      "metadata": {
        "colab": {
          "base_uri": "https://localhost:8080/"
        },
        "id": "9t4sEbQzROel",
        "outputId": "f5a39e20-e58b-45a6-e65f-09539c2198f6"
      },
      "execution_count": null,
      "outputs": [
        {
          "output_type": "execute_result",
          "data": {
            "text/plain": [
              "[('wwii', 0.7890922427177429),\n",
              " ('germans', 0.7817815542221069),\n",
              " ('civilians', 0.7798757553100586),\n",
              " ('babies', 0.7795499563217163),\n",
              " ('fighters', 0.7770894169807434),\n",
              " ('jew', 0.7743974328041077),\n",
              " ('wars', 0.7701852321624756),\n",
              " ('azeris', 0.7670772671699524),\n",
              " ('israelis', 0.7653689384460449),\n",
              " ('moslems', 0.7641439437866211)]"
            ]
          },
          "metadata": {},
          "execution_count": 60
        }
      ]
    },
    {
      "cell_type": "markdown",
      "metadata": {
        "id": "nrBZX9ZlSw6O"
      },
      "source": [
        "### 임베딩 벡터 시각화"
      ]
    },
    {
      "cell_type": "code",
      "metadata": {
        "id": "gA674OcrStUQ"
      },
      "source": [
        "from gensim.models import keyedvectors\n",
        "\n",
        "model.wv.save_word2vec_format('news_w2v')"
      ],
      "execution_count": null,
      "outputs": []
    },
    {
      "cell_type": "markdown",
      "metadata": {
        "id": "8yRepgJTWSte"
      },
      "source": [
        "* metadata.tsv와 tensor.tsv 데이터 생성"
      ]
    },
    {
      "cell_type": "code",
      "metadata": {
        "id": "zrfecS8nS9NE",
        "colab": {
          "base_uri": "https://localhost:8080/"
        },
        "outputId": "c121c82a-988c-4a97-c658-4bdbed6b55f2"
      },
      "source": [
        "!python -m gensim.scripts.word2vec2tensor -i news_w2v -o news_w2v"
      ],
      "execution_count": null,
      "outputs": [
        {
          "output_type": "stream",
          "name": "stdout",
          "text": [
            "2024-03-21 09:15:36,314 - word2vec2tensor - INFO - running /usr/local/lib/python3.10/dist-packages/gensim/scripts/word2vec2tensor.py -i news_w2v -o news_w2v\n",
            "2024-03-21 09:15:36,314 - keyedvectors - INFO - loading projection weights from news_w2v\n",
            "2024-03-21 09:15:37,517 - utils - INFO - KeyedVectors lifecycle event {'msg': 'loaded (22220, 100) matrix of type float32 from news_w2v', 'binary': False, 'encoding': 'utf8', 'datetime': '2024-03-21T09:15:37.516419', 'gensim': '4.3.2', 'python': '3.10.12 (main, Nov 20 2023, 15:14:05) [GCC 11.4.0]', 'platform': 'Linux-6.1.58+-x86_64-with-glibc2.35', 'event': 'load_word2vec_format'}\n",
            "2024-03-21 09:15:38,871 - word2vec2tensor - INFO - 2D tensor file saved to news_w2v_tensor.tsv\n",
            "2024-03-21 09:15:38,872 - word2vec2tensor - INFO - Tensor metadata file saved to news_w2v_metadata.tsv\n",
            "2024-03-21 09:15:38,873 - word2vec2tensor - INFO - finished running word2vec2tensor.py\n"
          ]
        }
      ]
    },
    {
      "cell_type": "code",
      "source": [
        "!ls"
      ],
      "metadata": {
        "colab": {
          "base_uri": "https://localhost:8080/"
        },
        "id": "bUzgAtTrTHc7",
        "outputId": "e34b272a-fbea-4402-8279-e398d23b3282"
      },
      "execution_count": null,
      "outputs": [
        {
          "output_type": "stream",
          "name": "stdout",
          "text": [
            "news_w2v  news_w2v_metadata.tsv  news_w2v_tensor.tsv  sample_data\n"
          ]
        }
      ]
    },
    {
      "cell_type": "code",
      "metadata": {
        "id": "9saj56WLW0qT",
        "colab": {
          "base_uri": "https://localhost:8080/",
          "height": 17
        },
        "outputId": "d4a9075c-a254-475b-c1b8-86eedff6a212"
      },
      "source": [
        "from google.colab import files\n",
        "\n",
        "files.download('news_w2v_metadata.tsv')\n",
        "files.download('news_w2v_tensor.tsv')"
      ],
      "execution_count": null,
      "outputs": [
        {
          "output_type": "display_data",
          "data": {
            "text/plain": [
              "<IPython.core.display.Javascript object>"
            ],
            "application/javascript": [
              "\n",
              "    async function download(id, filename, size) {\n",
              "      if (!google.colab.kernel.accessAllowed) {\n",
              "        return;\n",
              "      }\n",
              "      const div = document.createElement('div');\n",
              "      const label = document.createElement('label');\n",
              "      label.textContent = `Downloading \"${filename}\": `;\n",
              "      div.appendChild(label);\n",
              "      const progress = document.createElement('progress');\n",
              "      progress.max = size;\n",
              "      div.appendChild(progress);\n",
              "      document.body.appendChild(div);\n",
              "\n",
              "      const buffers = [];\n",
              "      let downloaded = 0;\n",
              "\n",
              "      const channel = await google.colab.kernel.comms.open(id);\n",
              "      // Send a message to notify the kernel that we're ready.\n",
              "      channel.send({})\n",
              "\n",
              "      for await (const message of channel.messages) {\n",
              "        // Send a message to notify the kernel that we're ready.\n",
              "        channel.send({})\n",
              "        if (message.buffers) {\n",
              "          for (const buffer of message.buffers) {\n",
              "            buffers.push(buffer);\n",
              "            downloaded += buffer.byteLength;\n",
              "            progress.value = downloaded;\n",
              "          }\n",
              "        }\n",
              "      }\n",
              "      const blob = new Blob(buffers, {type: 'application/binary'});\n",
              "      const a = document.createElement('a');\n",
              "      a.href = window.URL.createObjectURL(blob);\n",
              "      a.download = filename;\n",
              "      div.appendChild(a);\n",
              "      a.click();\n",
              "      div.remove();\n",
              "    }\n",
              "  "
            ]
          },
          "metadata": {}
        },
        {
          "output_type": "display_data",
          "data": {
            "text/plain": [
              "<IPython.core.display.Javascript object>"
            ],
            "application/javascript": [
              "download(\"download_557cd195-e560-4fe6-9b0b-f224d6313448\", \"news_w2v_metadata.tsv\", 171665)"
            ]
          },
          "metadata": {}
        },
        {
          "output_type": "display_data",
          "data": {
            "text/plain": [
              "<IPython.core.display.Javascript object>"
            ],
            "application/javascript": [
              "\n",
              "    async function download(id, filename, size) {\n",
              "      if (!google.colab.kernel.accessAllowed) {\n",
              "        return;\n",
              "      }\n",
              "      const div = document.createElement('div');\n",
              "      const label = document.createElement('label');\n",
              "      label.textContent = `Downloading \"${filename}\": `;\n",
              "      div.appendChild(label);\n",
              "      const progress = document.createElement('progress');\n",
              "      progress.max = size;\n",
              "      div.appendChild(progress);\n",
              "      document.body.appendChild(div);\n",
              "\n",
              "      const buffers = [];\n",
              "      let downloaded = 0;\n",
              "\n",
              "      const channel = await google.colab.kernel.comms.open(id);\n",
              "      // Send a message to notify the kernel that we're ready.\n",
              "      channel.send({})\n",
              "\n",
              "      for await (const message of channel.messages) {\n",
              "        // Send a message to notify the kernel that we're ready.\n",
              "        channel.send({})\n",
              "        if (message.buffers) {\n",
              "          for (const buffer of message.buffers) {\n",
              "            buffers.push(buffer);\n",
              "            downloaded += buffer.byteLength;\n",
              "            progress.value = downloaded;\n",
              "          }\n",
              "        }\n",
              "      }\n",
              "      const blob = new Blob(buffers, {type: 'application/binary'});\n",
              "      const a = document.createElement('a');\n",
              "      a.href = window.URL.createObjectURL(blob);\n",
              "      a.download = filename;\n",
              "      div.appendChild(a);\n",
              "      a.click();\n",
              "      div.remove();\n",
              "    }\n",
              "  "
            ]
          },
          "metadata": {}
        },
        {
          "output_type": "display_data",
          "data": {
            "text/plain": [
              "<IPython.core.display.Javascript object>"
            ],
            "application/javascript": [
              "download(\"download_a262b71d-fea2-4018-9ed3-572619863a74\", \"news_w2v_tensor.tsv\", 25927927)"
            ]
          },
          "metadata": {}
        }
      ]
    },
    {
      "cell_type": "markdown",
      "metadata": {
        "id": "nD_aU-YOTEon"
      },
      "source": [
        "* Embedding Projector: https://projector.tensorflow.org/"
      ]
    }
  ]
}