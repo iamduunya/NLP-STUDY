{
  "nbformat": 4,
  "nbformat_minor": 0,
  "metadata": {
    "colab": {
      "provenance": []
    },
    "kernelspec": {
      "name": "python3",
      "display_name": "Python 3"
    }
  },
  "cells": [
    {
      "cell_type": "markdown",
      "metadata": {
        "id": "tV70fimDW_-G"
      },
      "source": [
        "# 개체명 인식(Named Entity Recognition)\n"
      ]
    },
    {
      "cell_type": "markdown",
      "metadata": {
        "id": "MWA304rM5v8A"
      },
      "source": [
        "* 개체명 인식은 텍스트에서 이름을 가진 개체를 인식하는 기술      \n",
        "* 가령, '철수와 영희는 밥을 먹었다'에서 이름과 사물을 추출하는 개체명 인식 모델 결과\n",
        "\n",
        "  철수 - 이름    \n",
        "  영희 - 이름    \n",
        "  밥 - 사물"
      ]
    },
    {
      "cell_type": "markdown",
      "metadata": {
        "id": "9TwymWiS5fQs"
      },
      "source": [
        "## 개체명 인식 - NLTK\n",
        "\n",
        "* https://wikidocs.net/30682"
      ]
    },
    {
      "cell_type": "markdown",
      "metadata": {
        "id": "WClqugy-7LM4"
      },
      "source": [
        "* `nltk` 라이브러리에서는 미리 학습된 개체명 인식 모델을 제공"
      ]
    },
    {
      "cell_type": "markdown",
      "metadata": {
        "id": "5VP0CghXeLY-"
      },
      "source": [
        "### 라이브러리 준비"
      ]
    },
    {
      "cell_type": "code",
      "metadata": {
        "id": "ovXXNeMb7Xcw",
        "colab": {
          "base_uri": "https://localhost:8080/"
        },
        "outputId": "005cd10c-3eb7-4325-a357-0703d551718f"
      },
      "source": [
        "import nltk\n",
        "\n",
        "nltk.download('words')\n",
        "nltk.download('punkt')\n",
        "nltk.download('averaged_perceptron_tagger')\n",
        "nltk.download('maxent_ne_chunker')"
      ],
      "execution_count": null,
      "outputs": [
        {
          "output_type": "stream",
          "name": "stderr",
          "text": [
            "[nltk_data] Downloading package words to /root/nltk_data...\n",
            "[nltk_data]   Package words is already up-to-date!\n",
            "[nltk_data] Downloading package punkt to /root/nltk_data...\n",
            "[nltk_data]   Package punkt is already up-to-date!\n",
            "[nltk_data] Downloading package averaged_perceptron_tagger to\n",
            "[nltk_data]     /root/nltk_data...\n",
            "[nltk_data]   Package averaged_perceptron_tagger is already up-to-\n",
            "[nltk_data]       date!\n",
            "[nltk_data] Downloading package maxent_ne_chunker to\n",
            "[nltk_data]     /root/nltk_data...\n",
            "[nltk_data]   Package maxent_ne_chunker is already up-to-date!\n"
          ]
        },
        {
          "output_type": "execute_result",
          "data": {
            "text/plain": [
              "True"
            ]
          },
          "metadata": {},
          "execution_count": 34
        }
      ]
    },
    {
      "cell_type": "markdown",
      "metadata": {
        "id": "O4lxskxmeQJU"
      },
      "source": [
        "### 토큰화 및 품사 태깅"
      ]
    },
    {
      "cell_type": "code",
      "metadata": {
        "id": "3mPuhBfs5qrQ",
        "colab": {
          "base_uri": "https://localhost:8080/"
        },
        "outputId": "e7df7512-25bb-4c83-cfd4-f118c581a942"
      },
      "source": [
        "from nltk import word_tokenize, pos_tag, ne_chunk\n",
        "\n",
        "sentence='James is working at Disney in London'\n",
        "sentence=pos_tag(word_tokenize(sentence))\n",
        "print(sentence)"
      ],
      "execution_count": null,
      "outputs": [
        {
          "output_type": "stream",
          "name": "stdout",
          "text": [
            "[('James', 'NNP'), ('is', 'VBZ'), ('working', 'VBG'), ('at', 'IN'), ('Disney', 'NNP'), ('in', 'IN'), ('London', 'NNP')]\n"
          ]
        }
      ]
    },
    {
      "cell_type": "markdown",
      "metadata": {
        "id": "9DZP3vVveYGs"
      },
      "source": [
        "### 개체명 인식"
      ]
    },
    {
      "cell_type": "code",
      "metadata": {
        "id": "KuDJ4Ur47Gzw",
        "colab": {
          "base_uri": "https://localhost:8080/"
        },
        "outputId": "116dca8f-5cc2-4b0f-a7ba-eab2263a8bde"
      },
      "source": [
        "sentence=ne_chunk(sentence)\n",
        "\n",
        "print(sentence)"
      ],
      "execution_count": null,
      "outputs": [
        {
          "output_type": "stream",
          "name": "stdout",
          "text": [
            "(S\n",
            "  (PERSON James/NNP)\n",
            "  is/VBZ\n",
            "  working/VBG\n",
            "  at/IN\n",
            "  (ORGANIZATION Disney/NNP)\n",
            "  in/IN\n",
            "  (GPE London/NNP))\n"
          ]
        }
      ]
    },
    {
      "cell_type": "markdown",
      "metadata": {
        "id": "WvSriP226tSZ"
      },
      "source": [
        "## 개체명 인식 - LSTM\n",
        "\n",
        "* https://wikidocs.net/24682"
      ]
    },
    {
      "cell_type": "markdown",
      "metadata": {
        "id": "vOoJbTJC7xLC"
      },
      "source": [
        "* 사용자가 제공되고 있는 개체명 인식 모델과는 다른 개체명을 정의해 사용하는 것이 필요할 수 있음\n",
        "* 직접 개체명 인식 모델을 구성해 학습하고 사용할 수 있음"
      ]
    },
    {
      "cell_type": "markdown",
      "metadata": {
        "id": "7TZcsoHWee4F"
      },
      "source": [
        "### 라이브러리 준비"
      ]
    },
    {
      "cell_type": "code",
      "metadata": {
        "id": "Z3Pmu8QG64cK"
      },
      "source": [
        "from tensorflow.keras.preprocessing.text import Tokenizer\n",
        "from tensorflow.keras.preprocessing.sequence import pad_sequences\n",
        "from tensorflow.keras.utils import to_categorical\n",
        "from sklearn.model_selection import train_test_split"
      ],
      "execution_count": null,
      "outputs": []
    },
    {
      "cell_type": "markdown",
      "metadata": {
        "id": "LDgF2DTOeih2"
      },
      "source": [
        "### 데이터 준비"
      ]
    },
    {
      "cell_type": "markdown",
      "metadata": {
        "id": "JZKtNz4OwI1C"
      },
      "source": [
        "* 공개된 개체명 인식 데이터셋을 이용\n",
        "  + https://raw.githubusercontent.com/Franck-Dernoncourt/NeuroNER/master/neuroner/data/conll2003/en/train.txt\n",
        "* 해당 데이터는 단어-개체명 형식으로 이루어져 있으므로 이를 가공해 데이터셋을 생성"
      ]
    },
    {
      "cell_type": "code",
      "metadata": {
        "id": "IXnAk3SFC87h",
        "colab": {
          "base_uri": "https://localhost:8080/"
        },
        "outputId": "ca617381-4962-4f7a-c30b-d0d801743c15"
      },
      "source": [
        "import urllib.request\n",
        "\n",
        "tagged_sentences=[]\n",
        "sentence=[]\n",
        "with urllib.request.urlopen('https://raw.githubusercontent.com/Franck-Dernoncourt/NeuroNER/master/neuroner/data/conll2003/en/train.txt') as f:\n",
        "  for line in f:\n",
        "    line=line.decode('utf-8')\n",
        "    if len(line)==0 or line.startswith('DOCSTART') or line[0]=='\\n':\n",
        "      if len(sentence)>0:\n",
        "        tagged_sentences.append(sentence)\n",
        "        sentence=[]\n",
        "      continue\n",
        "    splits=line.strip().split(' ')\n",
        "    word=splits[0].lower()\n",
        "    sentence.append([word, splits[-1]])\n",
        "\n",
        "print(len(tagged_sentences))\n",
        "#print(tagged_sentences) 메모리 초과로 출력되지 않음.. 큰일났다!!"
      ],
      "execution_count": null,
      "outputs": [
        {
          "output_type": "stream",
          "name": "stderr",
          "text": [
            "Exception ignored in: <function _xla_gc_callback at 0x7f79701f4d30>\n",
            "Traceback (most recent call last):\n",
            "  File \"/usr/local/lib/python3.10/dist-packages/jax/_src/lib/__init__.py\", line 97, in _xla_gc_callback\n",
            "    def _xla_gc_callback(*args):\n",
            "KeyboardInterrupt: \n"
          ]
        },
        {
          "output_type": "stream",
          "name": "stdout",
          "text": [
            "14987\n"
          ]
        }
      ]
    },
    {
      "cell_type": "markdown",
      "metadata": {
        "id": "iq3VOetBewLN"
      },
      "source": [
        "### 데이터 전처리"
      ]
    },
    {
      "cell_type": "markdown",
      "metadata": {
        "id": "5HTqk1LJwcFm"
      },
      "source": [
        "* 단어와 개체명 태그를 분리해서 데이터를 구성"
      ]
    },
    {
      "cell_type": "code",
      "metadata": {
        "id": "nvsvx1q8C9BP"
      },
      "source": [
        "sentences, ner_tags=[],[]\n",
        "\n",
        "for tagged_sentence in tagged_sentences:\n",
        "  sentence, tag_info=zip(*tagged_sentence)\n",
        "  sentences.append(list(sentence))\n",
        "  ner_tags.append(list(tag_info))"
      ],
      "execution_count": null,
      "outputs": []
    },
    {
      "cell_type": "markdown",
      "metadata": {
        "id": "flb_gBeGwqdA"
      },
      "source": [
        "* 정제 및 빈도 수가 높은 상위 단어들만 추출하기 위해 토큰화 작업"
      ]
    },
    {
      "cell_type": "code",
      "metadata": {
        "id": "WIFAktdLDJZj"
      },
      "source": [
        "max_words=4000\n",
        "src_tokenizer=Tokenizer(num_words=max_words, oov_token='OOV')\n",
        "src_tokenizer.fit_on_texts(sentences)\n",
        "\n",
        "tar_tokenizer=Tokenizer()\n",
        "tar_tokenizer.fit_on_texts(ner_tags)"
      ],
      "execution_count": null,
      "outputs": []
    },
    {
      "cell_type": "code",
      "metadata": {
        "id": "jsOP0gUdDL6g",
        "colab": {
          "base_uri": "https://localhost:8080/"
        },
        "outputId": "f5ccd342-05ad-4878-c242-1a934a9e6e0d"
      },
      "source": [
        "vocab_size=max_words\n",
        "tag_size=len(tar_tokenizer.word_index)+1\n",
        "\n",
        "print(vocab_size)\n",
        "print(tag_size)"
      ],
      "execution_count": null,
      "outputs": [
        {
          "output_type": "stream",
          "name": "stdout",
          "text": [
            "4000\n",
            "10\n"
          ]
        }
      ]
    },
    {
      "cell_type": "markdown",
      "metadata": {
        "id": "q5dr-rJMxFV1"
      },
      "source": [
        "* 데이터를 학습에 활용하기 위해 데이터를 배열로 변환\n",
        "* 해당 작업은 토큰화 툴의 `texts_to_sequences()`를 통해 수행"
      ]
    },
    {
      "cell_type": "code",
      "metadata": {
        "id": "dTUzeqW-DNdv"
      },
      "source": [
        "x_train=src_tokenizer.texts_to_sequences(sentences)\n",
        "y_train=tar_tokenizer.texts_to_sequences(ner_tags)"
      ],
      "execution_count": null,
      "outputs": []
    },
    {
      "cell_type": "markdown",
      "metadata": {
        "id": "klstjOu4xQmL"
      },
      "source": [
        "* 학습에 투입할 때는 동일한 길이를 가져야 하므로, 지정해둔 최대 길이에 맞춰 모든 데이터를 동일한 길이로 맞춰줌\n",
        "* 일반적으로 길이를 맞출 때는 모자란 길이만큼 0을 추가\n"
      ]
    },
    {
      "cell_type": "code",
      "metadata": {
        "id": "jwvNulj2DO9Z"
      },
      "source": [
        "max_len=70\n",
        "x_train=pad_sequences(x_train, padding='post', maxlen=max_len)\n",
        "y_train=pad_sequences(y_train, padding='post', maxlen=max_len)"
      ],
      "execution_count": null,
      "outputs": []
    },
    {
      "cell_type": "markdown",
      "metadata": {
        "id": "vYK8UDkxxefx"
      },
      "source": [
        "* 훈련, 실험 데이터 분리 및 원 핫 인코딩을 시행"
      ]
    },
    {
      "cell_type": "code",
      "metadata": {
        "id": "IVtO_DApDR64"
      },
      "source": [
        "x_train,x_test,y_train,y_test=train_test_split(x_train,y_train,test_size=.2, random_state=111)\n",
        "y_train=to_categorical(y_train, num_classes=tag_size)\n",
        "y_test=to_categorical(y_test, num_classes=tag_size)"
      ],
      "execution_count": null,
      "outputs": []
    },
    {
      "cell_type": "markdown",
      "metadata": {
        "id": "CGqT1AGPxjKV"
      },
      "source": [
        "* 최종적으로 생성된 데이터셋의 크기는 다음과 같음"
      ]
    },
    {
      "cell_type": "code",
      "metadata": {
        "id": "cxrX6hkIDTU4",
        "colab": {
          "base_uri": "https://localhost:8080/"
        },
        "outputId": "b2067e54-14a9-407a-8561-8687a9736d0c"
      },
      "source": [
        "print(x_train.shape)\n",
        "print(y_train.shape)\n",
        "print(x_test.shape)\n",
        "print(y_test.shape)"
      ],
      "execution_count": null,
      "outputs": [
        {
          "output_type": "stream",
          "name": "stdout",
          "text": [
            "(11989, 70)\n",
            "(11989, 70, 10)\n",
            "(2998, 70)\n",
            "(2998, 70, 10)\n"
          ]
        }
      ]
    },
    {
      "cell_type": "markdown",
      "metadata": {
        "id": "C8h9L6H-e0Vl"
      },
      "source": [
        "### 모델 구축 및 학습"
      ]
    },
    {
      "cell_type": "markdown",
      "metadata": {
        "id": "eMLRWTzOxzf5"
      },
      "source": [
        "* 모델 구축에는 `keras`를 이용\n",
        "* 해당 작업에 필요한 함수들을 추가로 import"
      ]
    },
    {
      "cell_type": "code",
      "metadata": {
        "id": "AQzpED-KDW3f"
      },
      "source": [
        "from keras.models import Sequential\n",
        "from keras.layers import Dense, Embedding, LSTM, Bidirectional, TimeDistributed\n",
        "from keras.optimizers import Adam"
      ],
      "execution_count": null,
      "outputs": []
    },
    {
      "cell_type": "markdown",
      "metadata": {
        "id": "A0r8yR7nx84S"
      },
      "source": [
        "모델의 구성\n",
        "\n",
        "1. 입력을 실수 벡터로 임베딩\n",
        "2. 양방향 LSTM 구성\n",
        "3. Dense layer를 통한 각 태그에 속할 확률 예측\n",
        "\n",
        "`TimeDistributed`는 상위 layer의 출력이 step에 따라 여러 개로 출력되어 이를 적절하게 분배해주는 역할"
      ]
    },
    {
      "cell_type": "code",
      "metadata": {
        "id": "w0VhAso8DYc4",
        "colab": {
          "base_uri": "https://localhost:8080/"
        },
        "outputId": "0abdbef7-044c-451a-fbbc-13807f471d4b"
      },
      "source": [
        "model=Sequential()\n",
        "model.add(Embedding(input_dim=vocab_size,output_dim=128, input_length=max_len,mask_zero=True))\n",
        "model.add(Bidirectional(LSTM(256, return_sequences=True)))\n",
        "model.add(TimeDistributed(Dense(tag_size, activation='softmax')))\n",
        "\n",
        "model.summary()"
      ],
      "execution_count": null,
      "outputs": [
        {
          "output_type": "stream",
          "name": "stdout",
          "text": [
            "Model: \"sequential_2\"\n",
            "_________________________________________________________________\n",
            " Layer (type)                Output Shape              Param #   \n",
            "=================================================================\n",
            " embedding_2 (Embedding)     (None, 70, 128)           512000    \n",
            "                                                                 \n",
            " bidirectional_2 (Bidirecti  (None, 70, 512)           788480    \n",
            " onal)                                                           \n",
            "                                                                 \n",
            " time_distributed_2 (TimeDi  (None, 70, 10)            5130      \n",
            " stributed)                                                      \n",
            "                                                                 \n",
            "=================================================================\n",
            "Total params: 1305610 (4.98 MB)\n",
            "Trainable params: 1305610 (4.98 MB)\n",
            "Non-trainable params: 0 (0.00 Byte)\n",
            "_________________________________________________________________\n"
          ]
        }
      ]
    },
    {
      "cell_type": "markdown",
      "metadata": {
        "id": "FrpUv_mxyqzR"
      },
      "source": [
        "* 모델 컴파일 및 학습 진행, 평가"
      ]
    },
    {
      "cell_type": "code",
      "metadata": {
        "id": "ARUqZJwHDZuT",
        "colab": {
          "base_uri": "https://localhost:8080/"
        },
        "outputId": "7cc79834-8997-48e7-85b8-ff49b9033c66"
      },
      "source": [
        "model.compile(loss='categorical_crossentropy',\n",
        "              optimizer=Adam(0.001),\n",
        "              metrics=['accuracy'])\n",
        "model.fit(x_train, y_train, batch_size=128, epochs=3, validation_data=(x_test, y_test))"
      ],
      "execution_count": null,
      "outputs": [
        {
          "output_type": "stream",
          "name": "stdout",
          "text": [
            "Epoch 1/3\n",
            "94/94 [==============================] - 139s 1s/step - loss: 0.8745 - accuracy: 0.8265 - val_loss: 0.5865 - val_accuracy: 0.8329\n",
            "Epoch 2/3\n",
            "94/94 [==============================] - 124s 1s/step - loss: 0.4395 - accuracy: 0.8664 - val_loss: 0.3473 - val_accuracy: 0.8935\n",
            "Epoch 3/3\n",
            "94/94 [==============================] - 123s 1s/step - loss: 0.2864 - accuracy: 0.9141 - val_loss: 0.2475 - val_accuracy: 0.9281\n"
          ]
        },
        {
          "output_type": "execute_result",
          "data": {
            "text/plain": [
              "<keras.src.callbacks.History at 0x7f7954909750>"
            ]
          },
          "metadata": {},
          "execution_count": 49
        }
      ]
    },
    {
      "cell_type": "code",
      "metadata": {
        "id": "iVQsKQwlDfag",
        "colab": {
          "base_uri": "https://localhost:8080/"
        },
        "outputId": "378c9add-e87c-4775-ffaa-0596cdf0115f"
      },
      "source": [
        "model.evaluate(x_test, y_test)"
      ],
      "execution_count": null,
      "outputs": [
        {
          "output_type": "stream",
          "name": "stdout",
          "text": [
            "94/94 [==============================] - 13s 134ms/step - loss: 0.2470 - accuracy: 0.9281\n"
          ]
        },
        {
          "output_type": "execute_result",
          "data": {
            "text/plain": [
              "[0.2470129281282425, 0.9281149506568909]"
            ]
          },
          "metadata": {},
          "execution_count": 50
        }
      ]
    },
    {
      "cell_type": "markdown",
      "metadata": {
        "id": "OO13spS4fA27"
      },
      "source": [
        "### 학습한 모델을 통한 예측"
      ]
    },
    {
      "cell_type": "markdown",
      "metadata": {
        "id": "KeLrlYTOyy3P"
      },
      "source": [
        "* 예측을 확인하기 위해서 인덱스를 단어로 변환해줄 사전이 필요\n",
        "* 사전은 토큰화 툴의 사전을 이용"
      ]
    },
    {
      "cell_type": "code",
      "metadata": {
        "id": "fQx8MLCZvdI0"
      },
      "source": [
        "idx2word=src_tokenizer.index_word\n",
        "idx2ner=tar_tokenizer.index_word\n",
        "idx2ner[0]='PAD'"
      ],
      "execution_count": null,
      "outputs": []
    },
    {
      "cell_type": "markdown",
      "metadata": {
        "id": "j4EQgmTIzBHp"
      },
      "source": [
        "* 예측 시각화"
      ]
    },
    {
      "cell_type": "code",
      "metadata": {
        "id": "BsHL9I4yDgpW",
        "colab": {
          "base_uri": "https://localhost:8080/"
        },
        "outputId": "b506b36b-5867-4834-c83f-32a25b6991cb"
      },
      "source": [
        "import numpy as np\n",
        "\n",
        "i=10\n",
        "y_predicted=model.predict(np.array([x_test[i]]))\n",
        "y_predicted=np.argmax(y_predicted,axis=-1)\n",
        "true=np.argmax(y_test[i],-1)\n",
        "\n",
        "print(\"{:15}|{:5}|{}\".format(\"단어\",\"실제값\",'예측값'))\n",
        "print(\"-\"*34)\n",
        "\n",
        "for w,t,pred in zip(x_test[i], true, y_predicted[0]):\n",
        "  if w!=0:\n",
        "    print(\"{:17}:{:7}{}\".format(idx2word[w], idx2ner[t].upper(), idx2ner[pred].upper()))"
      ],
      "execution_count": null,
      "outputs": [
        {
          "output_type": "stream",
          "name": "stdout",
          "text": [
            "1/1 [==============================] - 0s 91ms/step\n",
            "단어             |실제값  |예측값\n",
            "----------------------------------\n",
            "4.               :O      O\n",
            "OOV              :B-PER  B-PER\n",
            "OOV              :I-PER  O\n",
            "-                :O      O\n",
            "OOV              :B-PER  B-PER\n",
            "OOV              :I-PER  I-PER\n",
            "(                :O      O\n",
            "switzerland      :B-LOC  B-LOC\n",
            ")                :O      O\n",
            "22               :O      O\n"
          ]
        }
      ]
    },
    {
      "cell_type": "code",
      "source": [],
      "metadata": {
        "id": "8Ne0v842LXhN"
      },
      "execution_count": null,
      "outputs": []
    }
  ]
}